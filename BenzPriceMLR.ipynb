{
 "cells": [
  {
   "cell_type": "code",
   "execution_count": 2,
   "id": "9e175e8f-c1a6-460f-81f8-b173d1332799",
   "metadata": {},
   "outputs": [],
   "source": [
    "import pandas as pd\n",
    "import numpy as np\n",
    "import seaborn as sns\n",
    "import matplotlib.pyplot as plt"
   ]
  },
  {
   "cell_type": "code",
   "execution_count": 3,
   "id": "1b07fffd-c2e8-4ad0-8865-98f57caaa1e1",
   "metadata": {},
   "outputs": [],
   "source": [
    "df=pd.read_csv('usa_mercedes_benz_prices.csv')"
   ]
  },
  {
   "cell_type": "code",
   "execution_count": 4,
   "id": "5fc38be2-b7d9-405b-80ca-73433f208b00",
   "metadata": {},
   "outputs": [
    {
     "data": {
      "text/html": [
       "<div>\n",
       "<style scoped>\n",
       "    .dataframe tbody tr th:only-of-type {\n",
       "        vertical-align: middle;\n",
       "    }\n",
       "\n",
       "    .dataframe tbody tr th {\n",
       "        vertical-align: top;\n",
       "    }\n",
       "\n",
       "    .dataframe thead th {\n",
       "        text-align: right;\n",
       "    }\n",
       "</style>\n",
       "<table border=\"1\" class=\"dataframe\">\n",
       "  <thead>\n",
       "    <tr style=\"text-align: right;\">\n",
       "      <th></th>\n",
       "      <th>Name</th>\n",
       "      <th>Mileage</th>\n",
       "      <th>Rating</th>\n",
       "      <th>Review Count</th>\n",
       "      <th>Price</th>\n",
       "    </tr>\n",
       "  </thead>\n",
       "  <tbody>\n",
       "    <tr>\n",
       "      <th>0</th>\n",
       "      <td>2021 Mercedes-Benz A-Class A 220 4MATIC</td>\n",
       "      <td>29,636 mi.</td>\n",
       "      <td>3.9</td>\n",
       "      <td>1,800</td>\n",
       "      <td>$30,900</td>\n",
       "    </tr>\n",
       "    <tr>\n",
       "      <th>1</th>\n",
       "      <td>2022 Mercedes-Benz AMG SL 63 Base</td>\n",
       "      <td>5,540 mi.</td>\n",
       "      <td>4.7</td>\n",
       "      <td>1,239</td>\n",
       "      <td>$139,999</td>\n",
       "    </tr>\n",
       "    <tr>\n",
       "      <th>2</th>\n",
       "      <td>2022 Mercedes-Benz AMG SL 63 Base</td>\n",
       "      <td>4,890 mi.</td>\n",
       "      <td>4.7</td>\n",
       "      <td>1,239</td>\n",
       "      <td>$132,999</td>\n",
       "    </tr>\n",
       "    <tr>\n",
       "      <th>3</th>\n",
       "      <td>2020 Mercedes-Benz AMG E 53 Base 4MATIC</td>\n",
       "      <td>29,746 mi.</td>\n",
       "      <td>4.8</td>\n",
       "      <td>752</td>\n",
       "      <td>$58,587</td>\n",
       "    </tr>\n",
       "    <tr>\n",
       "      <th>4</th>\n",
       "      <td>2021 Mercedes-Benz AMG GLS 63 Base 4MATIC</td>\n",
       "      <td>32,631 mi.</td>\n",
       "      <td>5.0</td>\n",
       "      <td>1,502</td>\n",
       "      <td>$95,990</td>\n",
       "    </tr>\n",
       "    <tr>\n",
       "      <th>...</th>\n",
       "      <td>...</td>\n",
       "      <td>...</td>\n",
       "      <td>...</td>\n",
       "      <td>...</td>\n",
       "      <td>...</td>\n",
       "    </tr>\n",
       "    <tr>\n",
       "      <th>2424</th>\n",
       "      <td>2021 Mercedes-Benz E-Class E 450 4MATIC</td>\n",
       "      <td>54,422 mi.</td>\n",
       "      <td>NaN</td>\n",
       "      <td>236</td>\n",
       "      <td>$53,490</td>\n",
       "    </tr>\n",
       "    <tr>\n",
       "      <th>2425</th>\n",
       "      <td>2022 Mercedes-Benz S-Class 4MATIC</td>\n",
       "      <td>11,395 mi.</td>\n",
       "      <td>4.5</td>\n",
       "      <td>1,334</td>\n",
       "      <td>$89,599</td>\n",
       "    </tr>\n",
       "    <tr>\n",
       "      <th>2426</th>\n",
       "      <td>2021 Mercedes-Benz GLB 250 Base 4MATIC</td>\n",
       "      <td>30,392 mi.</td>\n",
       "      <td>4.9</td>\n",
       "      <td>2,375</td>\n",
       "      <td>$32,890</td>\n",
       "    </tr>\n",
       "    <tr>\n",
       "      <th>2427</th>\n",
       "      <td>2023 Mercedes-Benz E-Class E 450 4MATIC</td>\n",
       "      <td>3,413 mi.</td>\n",
       "      <td>4.8</td>\n",
       "      <td>1,758</td>\n",
       "      <td>$53,983</td>\n",
       "    </tr>\n",
       "    <tr>\n",
       "      <th>2428</th>\n",
       "      <td>2023 Mercedes-Benz GLA 250 Base</td>\n",
       "      <td>6,336 mi.</td>\n",
       "      <td>4.5</td>\n",
       "      <td>2,057</td>\n",
       "      <td>$46,035</td>\n",
       "    </tr>\n",
       "  </tbody>\n",
       "</table>\n",
       "<p>2429 rows × 5 columns</p>\n",
       "</div>"
      ],
      "text/plain": [
       "                                           Name     Mileage  Rating  \\\n",
       "0       2021 Mercedes-Benz A-Class A 220 4MATIC  29,636 mi.     3.9   \n",
       "1             2022 Mercedes-Benz AMG SL 63 Base   5,540 mi.     4.7   \n",
       "2             2022 Mercedes-Benz AMG SL 63 Base   4,890 mi.     4.7   \n",
       "3       2020 Mercedes-Benz AMG E 53 Base 4MATIC  29,746 mi.     4.8   \n",
       "4     2021 Mercedes-Benz AMG GLS 63 Base 4MATIC  32,631 mi.     5.0   \n",
       "...                                         ...         ...     ...   \n",
       "2424    2021 Mercedes-Benz E-Class E 450 4MATIC  54,422 mi.     NaN   \n",
       "2425          2022 Mercedes-Benz S-Class 4MATIC  11,395 mi.     4.5   \n",
       "2426     2021 Mercedes-Benz GLB 250 Base 4MATIC  30,392 mi.     4.9   \n",
       "2427    2023 Mercedes-Benz E-Class E 450 4MATIC   3,413 mi.     4.8   \n",
       "2428            2023 Mercedes-Benz GLA 250 Base   6,336 mi.     4.5   \n",
       "\n",
       "     Review Count     Price  \n",
       "0          1,800    $30,900  \n",
       "1          1,239   $139,999  \n",
       "2          1,239   $132,999  \n",
       "3            752    $58,587  \n",
       "4          1,502    $95,990  \n",
       "...           ...       ...  \n",
       "2424         236    $53,490  \n",
       "2425       1,334    $89,599  \n",
       "2426       2,375    $32,890  \n",
       "2427       1,758    $53,983  \n",
       "2428       2,057    $46,035  \n",
       "\n",
       "[2429 rows x 5 columns]"
      ]
     },
     "execution_count": 4,
     "metadata": {},
     "output_type": "execute_result"
    }
   ],
   "source": [
    "df"
   ]
  },
  {
   "cell_type": "code",
   "execution_count": 5,
   "id": "2e520b3c-cfa3-4204-9aba-66ea7f0f72bd",
   "metadata": {},
   "outputs": [
    {
     "name": "stdout",
     "output_type": "stream",
     "text": [
      "<class 'pandas.core.frame.DataFrame'>\n",
      "RangeIndex: 2429 entries, 0 to 2428\n",
      "Data columns (total 5 columns):\n",
      " #   Column        Non-Null Count  Dtype  \n",
      "---  ------        --------------  -----  \n",
      " 0   Name          2429 non-null   object \n",
      " 1   Mileage       2429 non-null   object \n",
      " 2   Rating        2135 non-null   float64\n",
      " 3   Review Count  2398 non-null   object \n",
      " 4   Price         2429 non-null   object \n",
      "dtypes: float64(1), object(4)\n",
      "memory usage: 95.0+ KB\n"
     ]
    }
   ],
   "source": [
    "df.info()"
   ]
  },
  {
   "cell_type": "code",
   "execution_count": 6,
   "id": "15902802-cc8c-42d6-86f0-1cef2805baef",
   "metadata": {},
   "outputs": [
    {
     "data": {
      "text/plain": [
       "Name              0\n",
       "Mileage           0\n",
       "Rating          294\n",
       "Review Count     31\n",
       "Price             0\n",
       "dtype: int64"
      ]
     },
     "execution_count": 6,
     "metadata": {},
     "output_type": "execute_result"
    }
   ],
   "source": [
    "df.isna().sum()"
   ]
  },
  {
   "cell_type": "code",
   "execution_count": 7,
   "id": "bc5b16e7-be51-45e1-9698-31fcb5ac5e56",
   "metadata": {},
   "outputs": [
    {
     "data": {
      "text/plain": [
       "32"
      ]
     },
     "execution_count": 7,
     "metadata": {},
     "output_type": "execute_result"
    }
   ],
   "source": [
    "df.duplicated().sum()"
   ]
  },
  {
   "cell_type": "code",
   "execution_count": 8,
   "id": "644c3dac-ab2c-471d-8336-6ed1c1989a6e",
   "metadata": {},
   "outputs": [],
   "source": [
    "df.drop_duplicates(inplace=True)"
   ]
  },
  {
   "cell_type": "code",
   "execution_count": 9,
   "id": "df3988d8-5a76-4d2f-955c-6c79e6d6977f",
   "metadata": {},
   "outputs": [
    {
     "data": {
      "text/plain": [
       "0"
      ]
     },
     "execution_count": 9,
     "metadata": {},
     "output_type": "execute_result"
    }
   ],
   "source": [
    "df.duplicated().sum()"
   ]
  },
  {
   "cell_type": "code",
   "execution_count": 10,
   "id": "87a3af04-c53f-40f4-a0e4-045c4665070d",
   "metadata": {},
   "outputs": [
    {
     "data": {
      "text/plain": [
       "(2397, 5)"
      ]
     },
     "execution_count": 10,
     "metadata": {},
     "output_type": "execute_result"
    }
   ],
   "source": [
    "df.shape"
   ]
  },
  {
   "cell_type": "code",
   "execution_count": 11,
   "id": "10708035-4d7c-4b99-b643-5b645bf11847",
   "metadata": {},
   "outputs": [
    {
     "data": {
      "text/plain": [
       "Name             0.000000\n",
       "Mileage          0.000000\n",
       "Rating          12.181894\n",
       "Review Count     1.293283\n",
       "Price            0.000000\n",
       "dtype: float64"
      ]
     },
     "execution_count": 11,
     "metadata": {},
     "output_type": "execute_result"
    }
   ],
   "source": [
    "(df.isna().sum()/len(df.index))*100"
   ]
  },
  {
   "cell_type": "code",
   "execution_count": 12,
   "id": "a03b309e-e572-409b-bd15-e3044337c779",
   "metadata": {},
   "outputs": [
    {
     "name": "stdout",
     "output_type": "stream",
     "text": [
      "<class 'pandas.core.frame.DataFrame'>\n",
      "Index: 2397 entries, 0 to 2428\n",
      "Data columns (total 5 columns):\n",
      " #   Column        Non-Null Count  Dtype  \n",
      "---  ------        --------------  -----  \n",
      " 0   Name          2397 non-null   object \n",
      " 1   Mileage       2397 non-null   object \n",
      " 2   Rating        2105 non-null   float64\n",
      " 3   Review Count  2366 non-null   object \n",
      " 4   Price         2397 non-null   object \n",
      "dtypes: float64(1), object(4)\n",
      "memory usage: 112.4+ KB\n"
     ]
    }
   ],
   "source": [
    "df.info()"
   ]
  },
  {
   "cell_type": "code",
   "execution_count": 13,
   "id": "f064b2a4-7943-4662-8921-4036cff66afe",
   "metadata": {},
   "outputs": [
    {
     "data": {
      "image/png": "[encoded data removed]",
      "text/plain": [
       "<Figure size 1200x500 with 2 Axes>"
      ]
     },
     "metadata": {},
     "output_type": "display_data"
    }
   ],
   "source": [
    "plt.figure(figsize=(12,5))\n",
    "plt.subplot(1,2,1)\n",
    "sns.histplot(df['Rating'],kde=True)\n",
    "plt.subplot(1,2,2)\n",
    "sns.boxplot(data=df,x=df['Rating'])\n",
    "plt.show()"
   ]
  },
  {
   "cell_type": "code",
   "execution_count": 14,
   "id": "9bae044d-89de-4750-aac0-0b392ab22154",
   "metadata": {},
   "outputs": [],
   "source": [
    "uppercap=df['Rating'].quantile(0.95)\n",
    "lowercap=df['Rating'].quantile(0.05)"
   ]
  },
  {
   "cell_type": "code",
   "execution_count": 15,
   "id": "5785b293-5726-49e4-9a98-a71d33f0b0d3",
   "metadata": {},
   "outputs": [],
   "source": [
    "df['Rating']=np.where(df.Rating>uppercap,uppercap,np.where(df.Rating<lowercap,lowercap,df.Rating))"
   ]
  },
  {
   "cell_type": "code",
   "execution_count": 16,
   "id": "3adeaaac-0b73-4d29-8aa1-511ac2cbcf63",
   "metadata": {},
   "outputs": [
    {
     "data": {
      "image/png": "[encoded data removed]",
      "text/plain": [
       "<Figure size 1200x500 with 2 Axes>"
      ]
     },
     "metadata": {},
     "output_type": "display_data"
    }
   ],
   "source": [
    "plt.figure(figsize=(12,5))\n",
    "plt.subplot(1,2,1)\n",
    "sns.histplot(df['Rating'],kde=True)\n",
    "plt.subplot(1,2,2)\n",
    "sns.boxplot(data=df,x=df['Rating'])\n",
    "plt.show()"
   ]
  },
  {
   "cell_type": "code",
   "execution_count": 17,
   "id": "47967b27-f250-4ce7-9a84-e5a50b38eb82",
   "metadata": {},
   "outputs": [
    {
     "data": {
      "text/plain": [
       "Name              0\n",
       "Mileage           0\n",
       "Rating          292\n",
       "Review Count     31\n",
       "Price             0\n",
       "dtype: int64"
      ]
     },
     "execution_count": 17,
     "metadata": {},
     "output_type": "execute_result"
    }
   ],
   "source": [
    "df.isna().sum()"
   ]
  },
  {
   "cell_type": "code",
   "execution_count": 18,
   "id": "ee7647e2-4a33-472c-9ec2-0cd76fa9b091",
   "metadata": {},
   "outputs": [],
   "source": [
    "df.Rating=df.Rating.fillna(df.Rating.mean())"
   ]
  },
  {
   "cell_type": "code",
   "execution_count": 19,
   "id": "3fea1563-9fe9-4180-b47f-d7f28e137be8",
   "metadata": {},
   "outputs": [
    {
     "data": {
      "text/plain": [
       "Name             0\n",
       "Mileage          0\n",
       "Rating           0\n",
       "Review Count    31\n",
       "Price            0\n",
       "dtype: int64"
      ]
     },
     "execution_count": 19,
     "metadata": {},
     "output_type": "execute_result"
    }
   ],
   "source": [
    "df.isna().sum()"
   ]
  },
  {
   "cell_type": "code",
   "execution_count": 20,
   "id": "640d0540-185d-4c1d-93e8-de35247acf95",
   "metadata": {},
   "outputs": [
    {
     "data": {
      "text/html": [
       "<div>\n",
       "<style scoped>\n",
       "    .dataframe tbody tr th:only-of-type {\n",
       "        vertical-align: middle;\n",
       "    }\n",
       "\n",
       "    .dataframe tbody tr th {\n",
       "        vertical-align: top;\n",
       "    }\n",
       "\n",
       "    .dataframe thead th {\n",
       "        text-align: right;\n",
       "    }\n",
       "</style>\n",
       "<table border=\"1\" class=\"dataframe\">\n",
       "  <thead>\n",
       "    <tr style=\"text-align: right;\">\n",
       "      <th></th>\n",
       "      <th>Name</th>\n",
       "      <th>Mileage</th>\n",
       "      <th>Rating</th>\n",
       "      <th>Review Count</th>\n",
       "      <th>Price</th>\n",
       "    </tr>\n",
       "  </thead>\n",
       "  <tbody>\n",
       "    <tr>\n",
       "      <th>67</th>\n",
       "      <td>2023 Mercedes-Benz EQS 580 Base 4MATIC</td>\n",
       "      <td>3,937 mi.</td>\n",
       "      <td>4.9</td>\n",
       "      <td>2,166</td>\n",
       "      <td>$107,552</td>\n",
       "    </tr>\n",
       "  </tbody>\n",
       "</table>\n",
       "</div>"
      ],
      "text/plain": [
       "                                      Name    Mileage  Rating Review Count  \\\n",
       "67  2023 Mercedes-Benz EQS 580 Base 4MATIC  3,937 mi.     4.9       2,166    \n",
       "\n",
       "       Price  \n",
       "67  $107,552  "
      ]
     },
     "execution_count": 20,
     "metadata": {},
     "output_type": "execute_result"
    }
   ],
   "source": [
    "df.sample()"
   ]
  },
  {
   "cell_type": "code",
   "execution_count": 21,
   "id": "499aaa05-63f4-4cf3-817b-465538ec71b8",
   "metadata": {},
   "outputs": [
    {
     "name": "stdout",
     "output_type": "stream",
     "text": [
      "<class 'pandas.core.frame.DataFrame'>\n",
      "Index: 2397 entries, 0 to 2428\n",
      "Data columns (total 5 columns):\n",
      " #   Column        Non-Null Count  Dtype  \n",
      "---  ------        --------------  -----  \n",
      " 0   Name          2397 non-null   object \n",
      " 1   Mileage       2397 non-null   object \n",
      " 2   Rating        2397 non-null   float64\n",
      " 3   Review Count  2366 non-null   object \n",
      " 4   Price         2397 non-null   object \n",
      "dtypes: float64(1), object(4)\n",
      "memory usage: 112.4+ KB\n"
     ]
    }
   ],
   "source": [
    "df.info()"
   ]
  },
  {
   "cell_type": "code",
   "execution_count": 22,
   "id": "d06df592-ed14-412a-9c75-1ae9e0e954b5",
   "metadata": {},
   "outputs": [
    {
     "data": {
      "text/plain": [
       "array(['1,800 ', '1,239 ', '752 ', '1,502 ', '98 ', '902 ', '344 ',\n",
       "       '1,594 ', '585 ', '377 ', '899 ', '352 ', '2,166 ', '991 ',\n",
       "       '1,424 ', '1,050 ', '150 ', '1,948 ', '146 ', '526 ', '1,371 ',\n",
       "       '2,118 ', '1,094 ', '192 ', '716 ', '483 ', '1,291 ', '94 ',\n",
       "       '662 ', '37 ', '2,931 ', '2,468 ', '821 ', '33 ', '50 ', '788 ',\n",
       "       '1,231 ', '15 ', '244 ', '2,891 ', '2,783 ', '419 ', '1,372 ',\n",
       "       '894 ', '1,491 ', '4,585 ', '1 ', '1,899 ', '112 ', '1,735 ',\n",
       "       '2,516 ', '819 ', '12 ', '28 ', '79 ', '0 ', '1,411 ', '1,018 ',\n",
       "       '543 ', '468 ', '2,057 ', '417 ', '274 ', '443 ', '981 ', '696 ',\n",
       "       '1,354 ', '266 ', '110 ', '316 ', '2,879 ', '527 ', '297 ',\n",
       "       '2,308 ', '1,915 ', nan, '2,963 ', '862 ', '29 ', '969 ', '1,152 ',\n",
       "       '843 ', '557 ', '113 ', '2,059 ', '2,506 ', '5,510 ', '911 ',\n",
       "       '522 ', '1,905 ', '65 ', '184 ', '1,276 ', '318 ', '5,398 ',\n",
       "       '501 ', '2,375 ', '558 ', '122 ', '848 ', '1,405 ', '322 ', '654 ',\n",
       "       '1,014 ', '2,339 ', '4,576 ', '5 ', '615 ', '11 ', '295 ', '420 ',\n",
       "       '775 ', '8 ', '977 ', '60 ', '823 ', '348 ', '285 ', '133 ',\n",
       "       '129 ', '3,563 ', '376 ', '1,847 ', '673 ', '2,054 ', '59 ',\n",
       "       '1,515 ', '471 ', '2,204 ', '147 ', '10 ', '2 ', '203 ', '272 ',\n",
       "       '1,008 ', '1,248 ', '993 ', '1,758 ', '452 ', '1,096 ', '786 ',\n",
       "       '9 ', '1,102 ', '949 ', '827 ', '186 ', '1,838 ', '611 ', '1,661 ',\n",
       "       '2,465 ', '24 ', '449 ', '479 ', '157 ', '304 ', '3,116 ',\n",
       "       '1,782 ', '86 ', '4,823 ', '2,002 ', '2,350 ', '47 ', '1,171 ',\n",
       "       '1,334 ', '70 ', '735 ', '800 ', '2,501 ', '378 ', '996 ', '197 ',\n",
       "       '416 ', '649 ', '2,241 ', '1,089 ', '159 ', '236 ', '97 ', '254 ',\n",
       "       '173 ', '1,001 ', '7 ', '1,684 ', '268 ', '234 ', '2,986 ', '64 ',\n",
       "       '450 ', '418 ', '568 ', '3,258 ', '1,539 ', '83 ', '401 ', '6 ',\n",
       "       '608 ', '69 ', '925 ', '2,881 ', '1,870 ', '474 ', '919 ',\n",
       "       '1,246 ', '689 ', '76 ', '599 ', '311 ', '507 ', '132 ', '1,517 ',\n",
       "       '4,322 ', '1,797 ', '130 ', '5,929 ', '2,195 ', '699 ', '1,926 ',\n",
       "       '7,140 ', '2,811 ', '294 ', '87 ', '1,492 ', '22 ', '4,865 ',\n",
       "       '329 ', '1,647 ', '1,729 ', '1,038 ', '2,867 ', '1,375 ', '328 ',\n",
       "       '67 ', '3,222 ', '607 ', '38 ', '516 ', '587 ', '828 ', '639 ',\n",
       "       '1,054 ', '627 ', '365 ', '32 ', '2,043 ', '160 ', '23 ', '238 ',\n",
       "       '733 ', '66 ', '386 ', '199 ', '301 ', '27 ', '935 ', '1,003 ',\n",
       "       '265 ', '1,346 ', '56 ', '1,124 ', '189 ', '17 ', '2,945 '],\n",
       "      dtype=object)"
      ]
     },
     "execution_count": 22,
     "metadata": {},
     "output_type": "execute_result"
    }
   ],
   "source": [
    "df['Review Count'].unique()"
   ]
  },
  {
   "cell_type": "code",
   "execution_count": 23,
   "id": "3d4eede2-d040-448b-aded-eee71a230e55",
   "metadata": {},
   "outputs": [
    {
     "data": {
      "image/png": "[encoded data removed]",
      "text/plain": [
       "<Figure size 1200x500 with 2 Axes>"
      ]
     },
     "metadata": {},
     "output_type": "display_data"
    }
   ],
   "source": [
    "plt.figure(figsize=(12,5))\n",
    "plt.subplot(1,2,1)\n",
    "sns.histplot(df['Review Count'],kde=True)\n",
    "plt.subplot(1,2,2)\n",
    "sns.boxplot(data=df,x=df['Review Count'])\n",
    "plt.show()"
   ]
  },
  {
   "cell_type": "code",
   "execution_count": null,
   "id": "e8a9d2bb-cfae-465f-a164-7fa3457155a1",
   "metadata": {},
   "outputs": [],
   "source": []
  },
  {
   "cell_type": "code",
   "execution_count": 24,
   "id": "16c0ff16-4f51-48de-932e-d0e532e5c47a",
   "metadata": {},
   "outputs": [],
   "source": [
    "df['Review Count']=df['Review Count'].str.replace(',','')"
   ]
  },
  {
   "cell_type": "code",
   "execution_count": 25,
   "id": "8535e46c-a759-4076-820f-e79d62be6d05",
   "metadata": {},
   "outputs": [
    {
     "data": {
      "text/html": [
       "<div>\n",
       "<style scoped>\n",
       "    .dataframe tbody tr th:only-of-type {\n",
       "        vertical-align: middle;\n",
       "    }\n",
       "\n",
       "    .dataframe tbody tr th {\n",
       "        vertical-align: top;\n",
       "    }\n",
       "\n",
       "    .dataframe thead th {\n",
       "        text-align: right;\n",
       "    }\n",
       "</style>\n",
       "<table border=\"1\" class=\"dataframe\">\n",
       "  <thead>\n",
       "    <tr style=\"text-align: right;\">\n",
       "      <th></th>\n",
       "      <th>Name</th>\n",
       "      <th>Mileage</th>\n",
       "      <th>Rating</th>\n",
       "      <th>Review Count</th>\n",
       "      <th>Price</th>\n",
       "    </tr>\n",
       "  </thead>\n",
       "  <tbody>\n",
       "    <tr>\n",
       "      <th>0</th>\n",
       "      <td>2021 Mercedes-Benz A-Class A 220 4MATIC</td>\n",
       "      <td>29,636 mi.</td>\n",
       "      <td>3.9</td>\n",
       "      <td>1800</td>\n",
       "      <td>$30,900</td>\n",
       "    </tr>\n",
       "    <tr>\n",
       "      <th>1</th>\n",
       "      <td>2022 Mercedes-Benz AMG SL 63 Base</td>\n",
       "      <td>5,540 mi.</td>\n",
       "      <td>4.7</td>\n",
       "      <td>1239</td>\n",
       "      <td>$139,999</td>\n",
       "    </tr>\n",
       "    <tr>\n",
       "      <th>2</th>\n",
       "      <td>2022 Mercedes-Benz AMG SL 63 Base</td>\n",
       "      <td>4,890 mi.</td>\n",
       "      <td>4.7</td>\n",
       "      <td>1239</td>\n",
       "      <td>$132,999</td>\n",
       "    </tr>\n",
       "    <tr>\n",
       "      <th>3</th>\n",
       "      <td>2020 Mercedes-Benz AMG E 53 Base 4MATIC</td>\n",
       "      <td>29,746 mi.</td>\n",
       "      <td>4.8</td>\n",
       "      <td>752</td>\n",
       "      <td>$58,587</td>\n",
       "    </tr>\n",
       "    <tr>\n",
       "      <th>4</th>\n",
       "      <td>2021 Mercedes-Benz AMG GLS 63 Base 4MATIC</td>\n",
       "      <td>32,631 mi.</td>\n",
       "      <td>4.9</td>\n",
       "      <td>1502</td>\n",
       "      <td>$95,990</td>\n",
       "    </tr>\n",
       "  </tbody>\n",
       "</table>\n",
       "</div>"
      ],
      "text/plain": [
       "                                        Name     Mileage  Rating Review Count  \\\n",
       "0    2021 Mercedes-Benz A-Class A 220 4MATIC  29,636 mi.     3.9        1800    \n",
       "1          2022 Mercedes-Benz AMG SL 63 Base   5,540 mi.     4.7        1239    \n",
       "2          2022 Mercedes-Benz AMG SL 63 Base   4,890 mi.     4.7        1239    \n",
       "3    2020 Mercedes-Benz AMG E 53 Base 4MATIC  29,746 mi.     4.8         752    \n",
       "4  2021 Mercedes-Benz AMG GLS 63 Base 4MATIC  32,631 mi.     4.9        1502    \n",
       "\n",
       "      Price  \n",
       "0   $30,900  \n",
       "1  $139,999  \n",
       "2  $132,999  \n",
       "3   $58,587  \n",
       "4   $95,990  "
      ]
     },
     "execution_count": 25,
     "metadata": {},
     "output_type": "execute_result"
    }
   ],
   "source": [
    "df.head()"
   ]
  },
  {
   "cell_type": "code",
   "execution_count": 26,
   "id": "786f436d-7ec8-4b4d-bc95-b4fa10a9ebb0",
   "metadata": {},
   "outputs": [
    {
     "data": {
      "text/plain": [
       "array(['1800 ', '1239 ', '752 ', '1502 ', '98 ', '902 ', '344 ', '1594 ',\n",
       "       '585 ', '377 ', '899 ', '352 ', '2166 ', '991 ', '1424 ', '1050 ',\n",
       "       '150 ', '1948 ', '146 ', '526 ', '1371 ', '2118 ', '1094 ', '192 ',\n",
       "       '716 ', '483 ', '1291 ', '94 ', '662 ', '37 ', '2931 ', '2468 ',\n",
       "       '821 ', '33 ', '50 ', '788 ', '1231 ', '15 ', '244 ', '2891 ',\n",
       "       '2783 ', '419 ', '1372 ', '894 ', '1491 ', '4585 ', '1 ', '1899 ',\n",
       "       '112 ', '1735 ', '2516 ', '819 ', '12 ', '28 ', '79 ', '0 ',\n",
       "       '1411 ', '1018 ', '543 ', '468 ', '2057 ', '417 ', '274 ', '443 ',\n",
       "       '981 ', '696 ', '1354 ', '266 ', '110 ', '316 ', '2879 ', '527 ',\n",
       "       '297 ', '2308 ', '1915 ', nan, '2963 ', '862 ', '29 ', '969 ',\n",
       "       '1152 ', '843 ', '557 ', '113 ', '2059 ', '2506 ', '5510 ', '911 ',\n",
       "       '522 ', '1905 ', '65 ', '184 ', '1276 ', '318 ', '5398 ', '501 ',\n",
       "       '2375 ', '558 ', '122 ', '848 ', '1405 ', '322 ', '654 ', '1014 ',\n",
       "       '2339 ', '4576 ', '5 ', '615 ', '11 ', '295 ', '420 ', '775 ',\n",
       "       '8 ', '977 ', '60 ', '823 ', '348 ', '285 ', '133 ', '129 ',\n",
       "       '3563 ', '376 ', '1847 ', '673 ', '2054 ', '59 ', '1515 ', '471 ',\n",
       "       '2204 ', '147 ', '10 ', '2 ', '203 ', '272 ', '1008 ', '1248 ',\n",
       "       '993 ', '1758 ', '452 ', '1096 ', '786 ', '9 ', '1102 ', '949 ',\n",
       "       '827 ', '186 ', '1838 ', '611 ', '1661 ', '2465 ', '24 ', '449 ',\n",
       "       '479 ', '157 ', '304 ', '3116 ', '1782 ', '86 ', '4823 ', '2002 ',\n",
       "       '2350 ', '47 ', '1171 ', '1334 ', '70 ', '735 ', '800 ', '2501 ',\n",
       "       '378 ', '996 ', '197 ', '416 ', '649 ', '2241 ', '1089 ', '159 ',\n",
       "       '236 ', '97 ', '254 ', '173 ', '1001 ', '7 ', '1684 ', '268 ',\n",
       "       '234 ', '2986 ', '64 ', '450 ', '418 ', '568 ', '3258 ', '1539 ',\n",
       "       '83 ', '401 ', '6 ', '608 ', '69 ', '925 ', '2881 ', '1870 ',\n",
       "       '474 ', '919 ', '1246 ', '689 ', '76 ', '599 ', '311 ', '507 ',\n",
       "       '132 ', '1517 ', '4322 ', '1797 ', '130 ', '5929 ', '2195 ',\n",
       "       '699 ', '1926 ', '7140 ', '2811 ', '294 ', '87 ', '1492 ', '22 ',\n",
       "       '4865 ', '329 ', '1647 ', '1729 ', '1038 ', '2867 ', '1375 ',\n",
       "       '328 ', '67 ', '3222 ', '607 ', '38 ', '516 ', '587 ', '828 ',\n",
       "       '639 ', '1054 ', '627 ', '365 ', '32 ', '2043 ', '160 ', '23 ',\n",
       "       '238 ', '733 ', '66 ', '386 ', '199 ', '301 ', '27 ', '935 ',\n",
       "       '1003 ', '265 ', '1346 ', '56 ', '1124 ', '189 ', '17 ', '2945 '],\n",
       "      dtype=object)"
      ]
     },
     "execution_count": 26,
     "metadata": {},
     "output_type": "execute_result"
    }
   ],
   "source": [
    "df['Review Count'].unique()"
   ]
  },
  {
   "cell_type": "code",
   "execution_count": 27,
   "id": "75df103e-3f4f-499f-bdc6-b833c706d3e6",
   "metadata": {},
   "outputs": [],
   "source": [
    "df['Review Count']=pd.to_numeric(df['Review Count'],errors='coerce')"
   ]
  },
  {
   "cell_type": "code",
   "execution_count": 28,
   "id": "3eddc2d4-597c-459f-9464-91fc1dbb4600",
   "metadata": {},
   "outputs": [
    {
     "data": {
      "text/plain": [
       "dtype('float64')"
      ]
     },
     "execution_count": 28,
     "metadata": {},
     "output_type": "execute_result"
    }
   ],
   "source": [
    "df['Review Count'].dtype"
   ]
  },
  {
   "cell_type": "code",
   "execution_count": 29,
   "id": "c59c4eba-498b-4f02-ac02-d7cc5d2c233b",
   "metadata": {},
   "outputs": [
    {
     "data": {
      "text/plain": [
       "array([1.800e+03, 1.239e+03, 7.520e+02, 1.502e+03, 9.800e+01, 9.020e+02,\n",
       "       3.440e+02, 1.594e+03, 5.850e+02, 3.770e+02, 8.990e+02, 3.520e+02,\n",
       "       2.166e+03, 9.910e+02, 1.424e+03, 1.050e+03, 1.500e+02, 1.948e+03,\n",
       "       1.460e+02, 5.260e+02, 1.371e+03, 2.118e+03, 1.094e+03, 1.920e+02,\n",
       "       7.160e+02, 4.830e+02, 1.291e+03, 9.400e+01, 6.620e+02, 3.700e+01,\n",
       "       2.931e+03, 2.468e+03, 8.210e+02, 3.300e+01, 5.000e+01, 7.880e+02,\n",
       "       1.231e+03, 1.500e+01, 2.440e+02, 2.891e+03, 2.783e+03, 4.190e+02,\n",
       "       1.372e+03, 8.940e+02, 1.491e+03, 4.585e+03, 1.000e+00, 1.899e+03,\n",
       "       1.120e+02, 1.735e+03, 2.516e+03, 8.190e+02, 1.200e+01, 2.800e+01,\n",
       "       7.900e+01, 0.000e+00, 1.411e+03, 1.018e+03, 5.430e+02, 4.680e+02,\n",
       "       2.057e+03, 4.170e+02, 2.740e+02, 4.430e+02, 9.810e+02, 6.960e+02,\n",
       "       1.354e+03, 2.660e+02, 1.100e+02, 3.160e+02, 2.879e+03, 5.270e+02,\n",
       "       2.970e+02, 2.308e+03, 1.915e+03,       nan, 2.963e+03, 8.620e+02,\n",
       "       2.900e+01, 9.690e+02, 1.152e+03, 8.430e+02, 5.570e+02, 1.130e+02,\n",
       "       2.059e+03, 2.506e+03, 5.510e+03, 9.110e+02, 5.220e+02, 1.905e+03,\n",
       "       6.500e+01, 1.840e+02, 1.276e+03, 3.180e+02, 5.398e+03, 5.010e+02,\n",
       "       2.375e+03, 5.580e+02, 1.220e+02, 8.480e+02, 1.405e+03, 3.220e+02,\n",
       "       6.540e+02, 1.014e+03, 2.339e+03, 4.576e+03, 5.000e+00, 6.150e+02,\n",
       "       1.100e+01, 2.950e+02, 4.200e+02, 7.750e+02, 8.000e+00, 9.770e+02,\n",
       "       6.000e+01, 8.230e+02, 3.480e+02, 2.850e+02, 1.330e+02, 1.290e+02,\n",
       "       3.563e+03, 3.760e+02, 1.847e+03, 6.730e+02, 2.054e+03, 5.900e+01,\n",
       "       1.515e+03, 4.710e+02, 2.204e+03, 1.470e+02, 1.000e+01, 2.000e+00,\n",
       "       2.030e+02, 2.720e+02, 1.008e+03, 1.248e+03, 9.930e+02, 1.758e+03,\n",
       "       4.520e+02, 1.096e+03, 7.860e+02, 9.000e+00, 1.102e+03, 9.490e+02,\n",
       "       8.270e+02, 1.860e+02, 1.838e+03, 6.110e+02, 1.661e+03, 2.465e+03,\n",
       "       2.400e+01, 4.490e+02, 4.790e+02, 1.570e+02, 3.040e+02, 3.116e+03,\n",
       "       1.782e+03, 8.600e+01, 4.823e+03, 2.002e+03, 2.350e+03, 4.700e+01,\n",
       "       1.171e+03, 1.334e+03, 7.000e+01, 7.350e+02, 8.000e+02, 2.501e+03,\n",
       "       3.780e+02, 9.960e+02, 1.970e+02, 4.160e+02, 6.490e+02, 2.241e+03,\n",
       "       1.089e+03, 1.590e+02, 2.360e+02, 9.700e+01, 2.540e+02, 1.730e+02,\n",
       "       1.001e+03, 7.000e+00, 1.684e+03, 2.680e+02, 2.340e+02, 2.986e+03,\n",
       "       6.400e+01, 4.500e+02, 4.180e+02, 5.680e+02, 3.258e+03, 1.539e+03,\n",
       "       8.300e+01, 4.010e+02, 6.000e+00, 6.080e+02, 6.900e+01, 9.250e+02,\n",
       "       2.881e+03, 1.870e+03, 4.740e+02, 9.190e+02, 1.246e+03, 6.890e+02,\n",
       "       7.600e+01, 5.990e+02, 3.110e+02, 5.070e+02, 1.320e+02, 1.517e+03,\n",
       "       4.322e+03, 1.797e+03, 1.300e+02, 5.929e+03, 2.195e+03, 6.990e+02,\n",
       "       1.926e+03, 7.140e+03, 2.811e+03, 2.940e+02, 8.700e+01, 1.492e+03,\n",
       "       2.200e+01, 4.865e+03, 3.290e+02, 1.647e+03, 1.729e+03, 1.038e+03,\n",
       "       2.867e+03, 1.375e+03, 3.280e+02, 6.700e+01, 3.222e+03, 6.070e+02,\n",
       "       3.800e+01, 5.160e+02, 5.870e+02, 8.280e+02, 6.390e+02, 1.054e+03,\n",
       "       6.270e+02, 3.650e+02, 3.200e+01, 2.043e+03, 1.600e+02, 2.300e+01,\n",
       "       2.380e+02, 7.330e+02, 6.600e+01, 3.860e+02, 1.990e+02, 3.010e+02,\n",
       "       2.700e+01, 9.350e+02, 1.003e+03, 2.650e+02, 1.346e+03, 5.600e+01,\n",
       "       1.124e+03, 1.890e+02, 1.700e+01, 2.945e+03])"
      ]
     },
     "execution_count": 29,
     "metadata": {},
     "output_type": "execute_result"
    }
   ],
   "source": [
    "df['Review Count'].unique()"
   ]
  },
  {
   "cell_type": "code",
   "execution_count": 30,
   "id": "f8e5fe3d-d06c-4e29-badf-46297d7cccae",
   "metadata": {},
   "outputs": [],
   "source": [
    "df['Review Count']=df['Review Count'].fillna(df['Review Count'].mean())"
   ]
  },
  {
   "cell_type": "code",
   "execution_count": 31,
   "id": "713fa01d-d1d8-469a-b508-269d087fbaf4",
   "metadata": {},
   "outputs": [],
   "source": [
    "df['Review Count']=df['Review Count'].astype('int64')"
   ]
  },
  {
   "cell_type": "code",
   "execution_count": 32,
   "id": "1c1008f3-9b47-4ae8-89ca-da1b71962e6e",
   "metadata": {},
   "outputs": [
    {
     "data": {
      "text/plain": [
       "array([1800, 1239,  752, 1502,   98,  902,  344, 1594,  585,  377,  899,\n",
       "        352, 2166,  991, 1424, 1050,  150, 1948,  146,  526, 1371, 2118,\n",
       "       1094,  192,  716,  483, 1291,   94,  662,   37, 2931, 2468,  821,\n",
       "         33,   50,  788, 1231,   15,  244, 2891, 2783,  419, 1372,  894,\n",
       "       1491, 4585,    1, 1899,  112, 1735, 2516,  819,   12,   28,   79,\n",
       "          0, 1411, 1018,  543,  468, 2057,  417,  274,  443,  981,  696,\n",
       "       1354,  266,  110,  316, 2879,  527,  297, 2308, 1915, 1260, 2963,\n",
       "        862,   29,  969, 1152,  843,  557,  113, 2059, 2506, 5510,  911,\n",
       "        522, 1905,   65,  184, 1276,  318, 5398,  501, 2375,  558,  122,\n",
       "        848, 1405,  322,  654, 1014, 2339, 4576,    5,  615,   11,  295,\n",
       "        420,  775,    8,  977,   60,  823,  348,  285,  133,  129, 3563,\n",
       "        376, 1847,  673, 2054,   59, 1515,  471, 2204,  147,   10,    2,\n",
       "        203,  272, 1008, 1248,  993, 1758,  452, 1096,  786,    9, 1102,\n",
       "        949,  827,  186, 1838,  611, 1661, 2465,   24,  449,  479,  157,\n",
       "        304, 3116, 1782,   86, 4823, 2002, 2350,   47, 1171, 1334,   70,\n",
       "        735,  800, 2501,  378,  996,  197,  416,  649, 2241, 1089,  159,\n",
       "        236,   97,  254,  173, 1001,    7, 1684,  268,  234, 2986,   64,\n",
       "        450,  418,  568, 3258, 1539,   83,  401,    6,  608,   69,  925,\n",
       "       2881, 1870,  474,  919, 1246,  689,   76,  599,  311,  507,  132,\n",
       "       1517, 4322, 1797,  130, 5929, 2195,  699, 1926, 7140, 2811,  294,\n",
       "         87, 1492,   22, 4865,  329, 1647, 1729, 1038, 2867, 1375,  328,\n",
       "         67, 3222,  607,   38,  516,  587,  828,  639, 1054,  627,  365,\n",
       "         32, 2043,  160,   23,  238,  733,   66,  386,  199,  301,   27,\n",
       "        935, 1003,  265, 1346,   56, 1124,  189,   17, 2945])"
      ]
     },
     "execution_count": 32,
     "metadata": {},
     "output_type": "execute_result"
    }
   ],
   "source": [
    "df['Review Count'].unique()"
   ]
  },
  {
   "cell_type": "code",
   "execution_count": 33,
   "id": "f15aa505-73e9-476e-854e-7cbd4f22f555",
   "metadata": {},
   "outputs": [
    {
     "data": {
      "text/plain": [
       "Name            0\n",
       "Mileage         0\n",
       "Rating          0\n",
       "Review Count    0\n",
       "Price           0\n",
       "dtype: int64"
      ]
     },
     "execution_count": 33,
     "metadata": {},
     "output_type": "execute_result"
    }
   ],
   "source": [
    "df.isna().sum()"
   ]
  },
  {
   "cell_type": "code",
   "execution_count": 34,
   "id": "f43e1880-7541-44e4-b976-550ff951f2ba",
   "metadata": {},
   "outputs": [
    {
     "data": {
      "text/html": [
       "<div>\n",
       "<style scoped>\n",
       "    .dataframe tbody tr th:only-of-type {\n",
       "        vertical-align: middle;\n",
       "    }\n",
       "\n",
       "    .dataframe tbody tr th {\n",
       "        vertical-align: top;\n",
       "    }\n",
       "\n",
       "    .dataframe thead th {\n",
       "        text-align: right;\n",
       "    }\n",
       "</style>\n",
       "<table border=\"1\" class=\"dataframe\">\n",
       "  <thead>\n",
       "    <tr style=\"text-align: right;\">\n",
       "      <th></th>\n",
       "      <th>Name</th>\n",
       "      <th>Mileage</th>\n",
       "      <th>Rating</th>\n",
       "      <th>Review Count</th>\n",
       "      <th>Price</th>\n",
       "    </tr>\n",
       "  </thead>\n",
       "  <tbody>\n",
       "    <tr>\n",
       "      <th>1245</th>\n",
       "      <td>2023 Mercedes-Benz C-Class 4MATIC Coupe</td>\n",
       "      <td>8,781 mi.</td>\n",
       "      <td>4.7</td>\n",
       "      <td>192</td>\n",
       "      <td>$49,475</td>\n",
       "    </tr>\n",
       "    <tr>\n",
       "      <th>287</th>\n",
       "      <td>2022 Mercedes-Benz A-Class A 220 4MATIC</td>\n",
       "      <td>9,491 mi.</td>\n",
       "      <td>4.8</td>\n",
       "      <td>752</td>\n",
       "      <td>$34,988</td>\n",
       "    </tr>\n",
       "  </tbody>\n",
       "</table>\n",
       "</div>"
      ],
      "text/plain": [
       "                                         Name    Mileage  Rating  \\\n",
       "1245  2023 Mercedes-Benz C-Class 4MATIC Coupe  8,781 mi.     4.7   \n",
       "287   2022 Mercedes-Benz A-Class A 220 4MATIC  9,491 mi.     4.8   \n",
       "\n",
       "      Review Count    Price  \n",
       "1245           192  $49,475  \n",
       "287            752  $34,988  "
      ]
     },
     "execution_count": 34,
     "metadata": {},
     "output_type": "execute_result"
    }
   ],
   "source": [
    "df.sample(2)"
   ]
  },
  {
   "cell_type": "code",
   "execution_count": 35,
   "id": "702a26b7-86ce-44a5-92d7-246f80a9f32a",
   "metadata": {},
   "outputs": [
    {
     "data": {
      "text/plain": [
       "Name             object\n",
       "Mileage          object\n",
       "Rating          float64\n",
       "Review Count      int64\n",
       "Price            object\n",
       "dtype: object"
      ]
     },
     "execution_count": 35,
     "metadata": {},
     "output_type": "execute_result"
    }
   ],
   "source": [
    "df.dtypes"
   ]
  },
  {
   "cell_type": "code",
   "execution_count": 36,
   "id": "6fd6b9e8-a92c-40c7-ae19-be540f38581f",
   "metadata": {},
   "outputs": [],
   "source": [
    "df['Mileage']=df['Mileage'].str.replace(',','').str.replace('mi.','').astype('int64')"
   ]
  },
  {
   "cell_type": "code",
   "execution_count": 37,
   "id": "3e8dc45b-d238-44e1-9d18-83f35cab274c",
   "metadata": {},
   "outputs": [
    {
     "data": {
      "text/plain": [
       "Name             object\n",
       "Mileage           int64\n",
       "Rating          float64\n",
       "Review Count      int64\n",
       "Price            object\n",
       "dtype: object"
      ]
     },
     "execution_count": 37,
     "metadata": {},
     "output_type": "execute_result"
    }
   ],
   "source": [
    "df.dtypes"
   ]
  },
  {
   "cell_type": "code",
   "execution_count": 38,
   "id": "3fab924e-6e85-46ef-a337-152bfbc41986",
   "metadata": {},
   "outputs": [],
   "source": [
    "df['Price']=df['Price'].str.replace(',','').str.replace('$','')"
   ]
  },
  {
   "cell_type": "code",
   "execution_count": 39,
   "id": "7d92afd6-437f-4add-9e53-1fa686c1514c",
   "metadata": {},
   "outputs": [],
   "source": [
    "df['Price']=pd.to_numeric(df['Price'],errors='coerce')"
   ]
  },
  {
   "cell_type": "code",
   "execution_count": 40,
   "id": "c809bae0-7bd8-4fe7-9240-3f02211dc669",
   "metadata": {},
   "outputs": [
    {
     "data": {
      "text/plain": [
       "array([ 30900., 139999., 132999., ...,  89599.,  32890.,  46035.])"
      ]
     },
     "execution_count": 40,
     "metadata": {},
     "output_type": "execute_result"
    }
   ],
   "source": [
    "df['Price'].unique()"
   ]
  },
  {
   "cell_type": "code",
   "execution_count": 41,
   "id": "25c12447-a46e-410c-bfe8-59a52bf41e16",
   "metadata": {},
   "outputs": [
    {
     "data": {
      "text/plain": [
       "0"
      ]
     },
     "execution_count": 41,
     "metadata": {},
     "output_type": "execute_result"
    }
   ],
   "source": [
    "(df['Price']=='Not Priced').sum()"
   ]
  },
  {
   "cell_type": "code",
   "execution_count": 42,
   "id": "9be2aaa7-ef7e-4a4e-b166-dcf8a67fec04",
   "metadata": {},
   "outputs": [
    {
     "data": {
      "text/plain": [
       "Name            0\n",
       "Mileage         0\n",
       "Rating          0\n",
       "Review Count    0\n",
       "Price           1\n",
       "dtype: int64"
      ]
     },
     "execution_count": 42,
     "metadata": {},
     "output_type": "execute_result"
    }
   ],
   "source": [
    "df.isna().sum()"
   ]
  },
  {
   "cell_type": "code",
   "execution_count": 43,
   "id": "2672ec53-6db3-406b-bdf1-fbbfc4410bc3",
   "metadata": {},
   "outputs": [],
   "source": [
    "df.dropna(inplace=True)"
   ]
  },
  {
   "cell_type": "code",
   "execution_count": 44,
   "id": "5c6781d5-1090-4aaa-bea2-783f1b55415b",
   "metadata": {},
   "outputs": [
    {
     "data": {
      "text/plain": [
       "Name            0\n",
       "Mileage         0\n",
       "Rating          0\n",
       "Review Count    0\n",
       "Price           0\n",
       "dtype: int64"
      ]
     },
     "execution_count": 44,
     "metadata": {},
     "output_type": "execute_result"
    }
   ],
   "source": [
    "df.isna().sum()"
   ]
  },
  {
   "cell_type": "code",
   "execution_count": 45,
   "id": "4ea90a48-bfca-4dcd-b987-ad065113ed6d",
   "metadata": {},
   "outputs": [
    {
     "data": {
      "text/html": [
       "<div>\n",
       "<style scoped>\n",
       "    .dataframe tbody tr th:only-of-type {\n",
       "        vertical-align: middle;\n",
       "    }\n",
       "\n",
       "    .dataframe tbody tr th {\n",
       "        vertical-align: top;\n",
       "    }\n",
       "\n",
       "    .dataframe thead th {\n",
       "        text-align: right;\n",
       "    }\n",
       "</style>\n",
       "<table border=\"1\" class=\"dataframe\">\n",
       "  <thead>\n",
       "    <tr style=\"text-align: right;\">\n",
       "      <th></th>\n",
       "      <th>Name</th>\n",
       "      <th>Mileage</th>\n",
       "      <th>Rating</th>\n",
       "      <th>Review Count</th>\n",
       "      <th>Price</th>\n",
       "    </tr>\n",
       "  </thead>\n",
       "  <tbody>\n",
       "    <tr>\n",
       "      <th>0</th>\n",
       "      <td>2021 Mercedes-Benz A-Class A 220 4MATIC</td>\n",
       "      <td>29636</td>\n",
       "      <td>3.9</td>\n",
       "      <td>1800</td>\n",
       "      <td>30900.0</td>\n",
       "    </tr>\n",
       "    <tr>\n",
       "      <th>1</th>\n",
       "      <td>2022 Mercedes-Benz AMG SL 63 Base</td>\n",
       "      <td>5540</td>\n",
       "      <td>4.7</td>\n",
       "      <td>1239</td>\n",
       "      <td>139999.0</td>\n",
       "    </tr>\n",
       "    <tr>\n",
       "      <th>2</th>\n",
       "      <td>2022 Mercedes-Benz AMG SL 63 Base</td>\n",
       "      <td>4890</td>\n",
       "      <td>4.7</td>\n",
       "      <td>1239</td>\n",
       "      <td>132999.0</td>\n",
       "    </tr>\n",
       "    <tr>\n",
       "      <th>3</th>\n",
       "      <td>2020 Mercedes-Benz AMG E 53 Base 4MATIC</td>\n",
       "      <td>29746</td>\n",
       "      <td>4.8</td>\n",
       "      <td>752</td>\n",
       "      <td>58587.0</td>\n",
       "    </tr>\n",
       "    <tr>\n",
       "      <th>4</th>\n",
       "      <td>2021 Mercedes-Benz AMG GLS 63 Base 4MATIC</td>\n",
       "      <td>32631</td>\n",
       "      <td>4.9</td>\n",
       "      <td>1502</td>\n",
       "      <td>95990.0</td>\n",
       "    </tr>\n",
       "  </tbody>\n",
       "</table>\n",
       "</div>"
      ],
      "text/plain": [
       "                                        Name  Mileage  Rating  Review Count  \\\n",
       "0    2021 Mercedes-Benz A-Class A 220 4MATIC    29636     3.9          1800   \n",
       "1          2022 Mercedes-Benz AMG SL 63 Base     5540     4.7          1239   \n",
       "2          2022 Mercedes-Benz AMG SL 63 Base     4890     4.7          1239   \n",
       "3    2020 Mercedes-Benz AMG E 53 Base 4MATIC    29746     4.8           752   \n",
       "4  2021 Mercedes-Benz AMG GLS 63 Base 4MATIC    32631     4.9          1502   \n",
       "\n",
       "      Price  \n",
       "0   30900.0  \n",
       "1  139999.0  \n",
       "2  132999.0  \n",
       "3   58587.0  \n",
       "4   95990.0  "
      ]
     },
     "execution_count": 45,
     "metadata": {},
     "output_type": "execute_result"
    }
   ],
   "source": [
    "df.head()"
   ]
  },
  {
   "cell_type": "code",
   "execution_count": 46,
   "id": "351ad340-b608-4975-bf38-491b1d94106c",
   "metadata": {},
   "outputs": [
    {
     "data": {
      "text/plain": [
       "0"
      ]
     },
     "execution_count": 46,
     "metadata": {},
     "output_type": "execute_result"
    }
   ],
   "source": [
    "df.duplicated().sum()"
   ]
  },
  {
   "cell_type": "code",
   "execution_count": 47,
   "id": "35abb00a-1626-47e3-b27c-50b60083f6f1",
   "metadata": {},
   "outputs": [
    {
     "name": "stdout",
     "output_type": "stream",
     "text": [
      "Name\n",
      "2014 Mercedes-Benz SLK-Class SLK 250          21844.0\n",
      "2015 Mercedes-Benz E-Class E 400 4MATIC       20437.0\n",
      "2015 Mercedes-Benz G-Class G 550              55900.0\n",
      "2015 Mercedes-Benz S-Class S 550 4MATIC       41690.0\n",
      "2016 Mercedes-Benz AMG G 4MATIC               86995.0\n",
      "                                               ...   \n",
      "2024 Mercedes-Benz GLS 580                   118988.0\n",
      "2024 Mercedes-Benz GLS 580 Base 4MATIC       112749.0\n",
      "2024 Mercedes-Benz Maybach GLS 600 4MATIC    173880.0\n",
      "2024 Mercedes-Benz S-Class Base              129991.0\n",
      "2024 Mercedes-Benz S-Class S 580 4MATIC      129495.0\n",
      "Name: Price, Length: 486, dtype: float64\n"
     ]
    }
   ],
   "source": [
    "mean_encoded=df.groupby('Name')['Price'].mean()\n",
    "print(mean_encoded)"
   ]
  },
  {
   "cell_type": "code",
   "execution_count": 48,
   "id": "0eea18d9-c4a5-40f2-b95a-68432632e1be",
   "metadata": {},
   "outputs": [
    {
     "data": {
      "text/html": [
       "<div>\n",
       "<style scoped>\n",
       "    .dataframe tbody tr th:only-of-type {\n",
       "        vertical-align: middle;\n",
       "    }\n",
       "\n",
       "    .dataframe tbody tr th {\n",
       "        vertical-align: top;\n",
       "    }\n",
       "\n",
       "    .dataframe thead th {\n",
       "        text-align: right;\n",
       "    }\n",
       "</style>\n",
       "<table border=\"1\" class=\"dataframe\">\n",
       "  <thead>\n",
       "    <tr style=\"text-align: right;\">\n",
       "      <th></th>\n",
       "      <th>Name</th>\n",
       "      <th>Mileage</th>\n",
       "      <th>Rating</th>\n",
       "      <th>Review Count</th>\n",
       "      <th>Price</th>\n",
       "      <th>encoded_name</th>\n",
       "    </tr>\n",
       "  </thead>\n",
       "  <tbody>\n",
       "    <tr>\n",
       "      <th>0</th>\n",
       "      <td>2021 Mercedes-Benz A-Class A 220 4MATIC</td>\n",
       "      <td>29636</td>\n",
       "      <td>3.9</td>\n",
       "      <td>1800</td>\n",
       "      <td>30900.0</td>\n",
       "      <td>30055.416667</td>\n",
       "    </tr>\n",
       "    <tr>\n",
       "      <th>1</th>\n",
       "      <td>2022 Mercedes-Benz AMG SL 63 Base</td>\n",
       "      <td>5540</td>\n",
       "      <td>4.7</td>\n",
       "      <td>1239</td>\n",
       "      <td>139999.0</td>\n",
       "      <td>138122.500000</td>\n",
       "    </tr>\n",
       "    <tr>\n",
       "      <th>2</th>\n",
       "      <td>2022 Mercedes-Benz AMG SL 63 Base</td>\n",
       "      <td>4890</td>\n",
       "      <td>4.7</td>\n",
       "      <td>1239</td>\n",
       "      <td>132999.0</td>\n",
       "      <td>138122.500000</td>\n",
       "    </tr>\n",
       "    <tr>\n",
       "      <th>3</th>\n",
       "      <td>2020 Mercedes-Benz AMG E 53 Base 4MATIC</td>\n",
       "      <td>29746</td>\n",
       "      <td>4.8</td>\n",
       "      <td>752</td>\n",
       "      <td>58587.0</td>\n",
       "      <td>56557.714286</td>\n",
       "    </tr>\n",
       "    <tr>\n",
       "      <th>4</th>\n",
       "      <td>2021 Mercedes-Benz AMG GLS 63 Base 4MATIC</td>\n",
       "      <td>32631</td>\n",
       "      <td>4.9</td>\n",
       "      <td>1502</td>\n",
       "      <td>95990.0</td>\n",
       "      <td>95798.750000</td>\n",
       "    </tr>\n",
       "  </tbody>\n",
       "</table>\n",
       "</div>"
      ],
      "text/plain": [
       "                                        Name  Mileage  Rating  Review Count  \\\n",
       "0    2021 Mercedes-Benz A-Class A 220 4MATIC    29636     3.9          1800   \n",
       "1          2022 Mercedes-Benz AMG SL 63 Base     5540     4.7          1239   \n",
       "2          2022 Mercedes-Benz AMG SL 63 Base     4890     4.7          1239   \n",
       "3    2020 Mercedes-Benz AMG E 53 Base 4MATIC    29746     4.8           752   \n",
       "4  2021 Mercedes-Benz AMG GLS 63 Base 4MATIC    32631     4.9          1502   \n",
       "\n",
       "      Price   encoded_name  \n",
       "0   30900.0   30055.416667  \n",
       "1  139999.0  138122.500000  \n",
       "2  132999.0  138122.500000  \n",
       "3   58587.0   56557.714286  \n",
       "4   95990.0   95798.750000  "
      ]
     },
     "execution_count": 48,
     "metadata": {},
     "output_type": "execute_result"
    }
   ],
   "source": [
    "df['encoded_name'] = df['Name'].map(mean_encoded)\n",
    "df.head()"
   ]
  },
  {
   "cell_type": "code",
   "execution_count": 49,
   "id": "8d521dda-7201-4479-832a-4ba468a08058",
   "metadata": {},
   "outputs": [],
   "source": [
    "df.drop('Name',axis=1,inplace=True)"
   ]
  },
  {
   "cell_type": "code",
   "execution_count": 50,
   "id": "57696197-fe47-4515-80fe-1ce4bdd17e32",
   "metadata": {},
   "outputs": [
    {
     "data": {
      "text/html": [
       "<div>\n",
       "<style scoped>\n",
       "    .dataframe tbody tr th:only-of-type {\n",
       "        vertical-align: middle;\n",
       "    }\n",
       "\n",
       "    .dataframe tbody tr th {\n",
       "        vertical-align: top;\n",
       "    }\n",
       "\n",
       "    .dataframe thead th {\n",
       "        text-align: right;\n",
       "    }\n",
       "</style>\n",
       "<table border=\"1\" class=\"dataframe\">\n",
       "  <thead>\n",
       "    <tr style=\"text-align: right;\">\n",
       "      <th></th>\n",
       "      <th>Mileage</th>\n",
       "      <th>Rating</th>\n",
       "      <th>Review Count</th>\n",
       "      <th>Price</th>\n",
       "      <th>encoded_name</th>\n",
       "    </tr>\n",
       "  </thead>\n",
       "  <tbody>\n",
       "    <tr>\n",
       "      <th>64</th>\n",
       "      <td>145</td>\n",
       "      <td>4.560475</td>\n",
       "      <td>1</td>\n",
       "      <td>39950.0</td>\n",
       "      <td>46748.000000</td>\n",
       "    </tr>\n",
       "    <tr>\n",
       "      <th>676</th>\n",
       "      <td>6409</td>\n",
       "      <td>3.900000</td>\n",
       "      <td>1405</td>\n",
       "      <td>43991.0</td>\n",
       "      <td>43991.000000</td>\n",
       "    </tr>\n",
       "    <tr>\n",
       "      <th>2407</th>\n",
       "      <td>2595</td>\n",
       "      <td>4.100000</td>\n",
       "      <td>1346</td>\n",
       "      <td>74989.0</td>\n",
       "      <td>75295.545455</td>\n",
       "    </tr>\n",
       "  </tbody>\n",
       "</table>\n",
       "</div>"
      ],
      "text/plain": [
       "      Mileage    Rating  Review Count    Price  encoded_name\n",
       "64        145  4.560475             1  39950.0  46748.000000\n",
       "676      6409  3.900000          1405  43991.0  43991.000000\n",
       "2407     2595  4.100000          1346  74989.0  75295.545455"
      ]
     },
     "execution_count": 50,
     "metadata": {},
     "output_type": "execute_result"
    }
   ],
   "source": [
    "df.sample(3)"
   ]
  },
  {
   "cell_type": "code",
   "execution_count": 51,
   "id": "eb5a192d-a84a-4b94-9203-a26055b75aad",
   "metadata": {},
   "outputs": [],
   "source": [
    "df['Price']=df['Price'].astype('int64')"
   ]
  },
  {
   "cell_type": "code",
   "execution_count": 52,
   "id": "225af245-8b88-4ad5-a834-f0b972d4b7b4",
   "metadata": {},
   "outputs": [
    {
     "data": {
      "text/html": [
       "<div>\n",
       "<style scoped>\n",
       "    .dataframe tbody tr th:only-of-type {\n",
       "        vertical-align: middle;\n",
       "    }\n",
       "\n",
       "    .dataframe tbody tr th {\n",
       "        vertical-align: top;\n",
       "    }\n",
       "\n",
       "    .dataframe thead th {\n",
       "        text-align: right;\n",
       "    }\n",
       "</style>\n",
       "<table border=\"1\" class=\"dataframe\">\n",
       "  <thead>\n",
       "    <tr style=\"text-align: right;\">\n",
       "      <th></th>\n",
       "      <th>Mileage</th>\n",
       "      <th>Rating</th>\n",
       "      <th>Review Count</th>\n",
       "      <th>Price</th>\n",
       "      <th>encoded_name</th>\n",
       "    </tr>\n",
       "  </thead>\n",
       "  <tbody>\n",
       "    <tr>\n",
       "      <th>0</th>\n",
       "      <td>29636</td>\n",
       "      <td>3.9</td>\n",
       "      <td>1800</td>\n",
       "      <td>30900</td>\n",
       "      <td>30055.416667</td>\n",
       "    </tr>\n",
       "    <tr>\n",
       "      <th>1</th>\n",
       "      <td>5540</td>\n",
       "      <td>4.7</td>\n",
       "      <td>1239</td>\n",
       "      <td>139999</td>\n",
       "      <td>138122.500000</td>\n",
       "    </tr>\n",
       "    <tr>\n",
       "      <th>2</th>\n",
       "      <td>4890</td>\n",
       "      <td>4.7</td>\n",
       "      <td>1239</td>\n",
       "      <td>132999</td>\n",
       "      <td>138122.500000</td>\n",
       "    </tr>\n",
       "    <tr>\n",
       "      <th>3</th>\n",
       "      <td>29746</td>\n",
       "      <td>4.8</td>\n",
       "      <td>752</td>\n",
       "      <td>58587</td>\n",
       "      <td>56557.714286</td>\n",
       "    </tr>\n",
       "    <tr>\n",
       "      <th>4</th>\n",
       "      <td>32631</td>\n",
       "      <td>4.9</td>\n",
       "      <td>1502</td>\n",
       "      <td>95990</td>\n",
       "      <td>95798.750000</td>\n",
       "    </tr>\n",
       "  </tbody>\n",
       "</table>\n",
       "</div>"
      ],
      "text/plain": [
       "   Mileage  Rating  Review Count   Price   encoded_name\n",
       "0    29636     3.9          1800   30900   30055.416667\n",
       "1     5540     4.7          1239  139999  138122.500000\n",
       "2     4890     4.7          1239  132999  138122.500000\n",
       "3    29746     4.8           752   58587   56557.714286\n",
       "4    32631     4.9          1502   95990   95798.750000"
      ]
     },
     "execution_count": 52,
     "metadata": {},
     "output_type": "execute_result"
    }
   ],
   "source": [
    "df.head()"
   ]
  },
  {
   "cell_type": "code",
   "execution_count": 53,
   "id": "2fd40a1b-69a4-4e62-9b62-39fb21e22dba",
   "metadata": {},
   "outputs": [],
   "source": [
    "X=df.drop('Price',axis=1)\n",
    "y=df['Price']"
   ]
  },
  {
   "cell_type": "code",
   "execution_count": 54,
   "id": "09a65a66-a55b-45d1-95b7-3ea60bb0f55f",
   "metadata": {},
   "outputs": [],
   "source": [
    "from sklearn.model_selection import train_test_split\n",
    "X_train,X_test,y_train,y_test=train_test_split(X,y,test_size=0.2,random_state=1)"
   ]
  },
  {
   "cell_type": "code",
   "execution_count": 55,
   "id": "a3c98e4f-8ea5-4306-8247-1baf674041ad",
   "metadata": {},
   "outputs": [
    {
     "data": {
      "text/html": [
       "<div>\n",
       "<style scoped>\n",
       "    .dataframe tbody tr th:only-of-type {\n",
       "        vertical-align: middle;\n",
       "    }\n",
       "\n",
       "    .dataframe tbody tr th {\n",
       "        vertical-align: top;\n",
       "    }\n",
       "\n",
       "    .dataframe thead th {\n",
       "        text-align: right;\n",
       "    }\n",
       "</style>\n",
       "<table border=\"1\" class=\"dataframe\">\n",
       "  <thead>\n",
       "    <tr style=\"text-align: right;\">\n",
       "      <th></th>\n",
       "      <th>Mileage</th>\n",
       "      <th>Rating</th>\n",
       "      <th>Review Count</th>\n",
       "      <th>encoded_name</th>\n",
       "    </tr>\n",
       "  </thead>\n",
       "  <tbody>\n",
       "    <tr>\n",
       "      <th>415</th>\n",
       "      <td>9638</td>\n",
       "      <td>4.6</td>\n",
       "      <td>827</td>\n",
       "      <td>75841.833333</td>\n",
       "    </tr>\n",
       "    <tr>\n",
       "      <th>1253</th>\n",
       "      <td>2951</td>\n",
       "      <td>4.0</td>\n",
       "      <td>3563</td>\n",
       "      <td>57241.391304</td>\n",
       "    </tr>\n",
       "    <tr>\n",
       "      <th>423</th>\n",
       "      <td>35924</td>\n",
       "      <td>4.7</td>\n",
       "      <td>1371</td>\n",
       "      <td>31659.193548</td>\n",
       "    </tr>\n",
       "    <tr>\n",
       "      <th>302</th>\n",
       "      <td>31036</td>\n",
       "      <td>4.9</td>\n",
       "      <td>4585</td>\n",
       "      <td>88655.400000</td>\n",
       "    </tr>\n",
       "    <tr>\n",
       "      <th>3</th>\n",
       "      <td>29746</td>\n",
       "      <td>4.8</td>\n",
       "      <td>752</td>\n",
       "      <td>56557.714286</td>\n",
       "    </tr>\n",
       "    <tr>\n",
       "      <th>...</th>\n",
       "      <td>...</td>\n",
       "      <td>...</td>\n",
       "      <td>...</td>\n",
       "      <td>...</td>\n",
       "    </tr>\n",
       "    <tr>\n",
       "      <th>991</th>\n",
       "      <td>2629</td>\n",
       "      <td>4.8</td>\n",
       "      <td>527</td>\n",
       "      <td>48726.444444</td>\n",
       "    </tr>\n",
       "    <tr>\n",
       "      <th>936</th>\n",
       "      <td>42552</td>\n",
       "      <td>4.5</td>\n",
       "      <td>615</td>\n",
       "      <td>50877.700000</td>\n",
       "    </tr>\n",
       "    <tr>\n",
       "      <th>1127</th>\n",
       "      <td>28196</td>\n",
       "      <td>4.5</td>\n",
       "      <td>2057</td>\n",
       "      <td>35003.333333</td>\n",
       "    </tr>\n",
       "    <tr>\n",
       "      <th>238</th>\n",
       "      <td>12750</td>\n",
       "      <td>4.8</td>\n",
       "      <td>902</td>\n",
       "      <td>40907.781250</td>\n",
       "    </tr>\n",
       "    <tr>\n",
       "      <th>1092</th>\n",
       "      <td>60506</td>\n",
       "      <td>4.9</td>\n",
       "      <td>2375</td>\n",
       "      <td>42884.250000</td>\n",
       "    </tr>\n",
       "  </tbody>\n",
       "</table>\n",
       "<p>1916 rows × 4 columns</p>\n",
       "</div>"
      ],
      "text/plain": [
       "      Mileage  Rating  Review Count  encoded_name\n",
       "415      9638     4.6           827  75841.833333\n",
       "1253     2951     4.0          3563  57241.391304\n",
       "423     35924     4.7          1371  31659.193548\n",
       "302     31036     4.9          4585  88655.400000\n",
       "3       29746     4.8           752  56557.714286\n",
       "...       ...     ...           ...           ...\n",
       "991      2629     4.8           527  48726.444444\n",
       "936     42552     4.5           615  50877.700000\n",
       "1127    28196     4.5          2057  35003.333333\n",
       "238     12750     4.8           902  40907.781250\n",
       "1092    60506     4.9          2375  42884.250000\n",
       "\n",
       "[1916 rows x 4 columns]"
      ]
     },
     "execution_count": 55,
     "metadata": {},
     "output_type": "execute_result"
    }
   ],
   "source": [
    "X_train"
   ]
  },
  {
   "cell_type": "code",
   "execution_count": 56,
   "id": "1109a496-f3ce-4ee6-8190-a42f8821ddd8",
   "metadata": {},
   "outputs": [
    {
     "data": {
      "text/plain": [
       "415     76589\n",
       "1253    57425\n",
       "423     36131\n",
       "302     85500\n",
       "3       58587\n",
       "        ...  \n",
       "991     45000\n",
       "936     50881\n",
       "1127    34522\n",
       "238     37870\n",
       "1092    37890\n",
       "Name: Price, Length: 1916, dtype: int64"
      ]
     },
     "execution_count": 56,
     "metadata": {},
     "output_type": "execute_result"
    }
   ],
   "source": [
    "y_train"
   ]
  },
  {
   "cell_type": "code",
   "execution_count": 57,
   "id": "653f19c4-f268-4b99-8d4e-9411a2c48b9c",
   "metadata": {},
   "outputs": [],
   "source": [
    "from sklearn.preprocessing import StandardScaler\n",
    "scaler=StandardScaler()"
   ]
  },
  {
   "cell_type": "code",
   "execution_count": 58,
   "id": "98c50f1b-f55c-42ae-b501-d4fbba9f10db",
   "metadata": {},
   "outputs": [],
   "source": [
    "X_train=scaler.fit_transform(X_train)\n",
    "X_test=scaler.transform(X_test)"
   ]
  },
  {
   "cell_type": "code",
   "execution_count": 59,
   "id": "0918038d-696e-49b8-87ef-b65142ab724d",
   "metadata": {},
   "outputs": [],
   "source": [
    "from sklearn.linear_model import LinearRegression\n",
    "model=LinearRegression()"
   ]
  },
  {
   "cell_type": "code",
   "execution_count": 60,
   "id": "ee217704-06ab-4415-a1dd-744a9657184e",
   "metadata": {},
   "outputs": [
    {
     "data": {
      "text/html": [
       "<style>#sk-container-id-1 {\n",
       "  /* Definition of color scheme common for light and dark mode */\n",
       "  --sklearn-color-text: black;\n",
       "  --sklearn-color-line: gray;\n",
       "  /* Definition of color scheme for unfitted estimators */\n",
       "  --sklearn-color-unfitted-level-0: #fff5e6;\n",
       "  --sklearn-color-unfitted-level-1: #f6e4d2;\n",
       "  --sklearn-color-unfitted-level-2: #ffe0b3;\n",
       "  --sklearn-color-unfitted-level-3: chocolate;\n",
       "  /* Definition of color scheme for fitted estimators */\n",
       "  --sklearn-color-fitted-level-0: #f0f8ff;\n",
       "  --sklearn-color-fitted-level-1: #d4ebff;\n",
       "  --sklearn-color-fitted-level-2: #b3dbfd;\n",
       "  --sklearn-color-fitted-level-3: cornflowerblue;\n",
       "\n",
       "  /* Specific color for light theme */\n",
       "  --sklearn-color-text-on-default-background: var(--sg-text-color, var(--theme-code-foreground, var(--jp-content-font-color1, black)));\n",
       "  --sklearn-color-background: var(--sg-background-color, var(--theme-background, var(--jp-layout-color0, white)));\n",
       "  --sklearn-color-border-box: var(--sg-text-color, var(--theme-code-foreground, var(--jp-content-font-color1, black)));\n",
       "  --sklearn-color-icon: #696969;\n",
       "\n",
       "  @media (prefers-color-scheme: dark) {\n",
       "    /* Redefinition of color scheme for dark theme */\n",
       "    --sklearn-color-text-on-default-background: var(--sg-text-color, var(--theme-code-foreground, var(--jp-content-font-color1, white)));\n",
       "    --sklearn-color-background: var(--sg-background-color, var(--theme-background, var(--jp-layout-color0, #111)));\n",
       "    --sklearn-color-border-box: var(--sg-text-color, var(--theme-code-foreground, var(--jp-content-font-color1, white)));\n",
       "    --sklearn-color-icon: #878787;\n",
       "  }\n",
       "}\n",
       "\n",
       "#sk-container-id-1 {\n",
       "  color: var(--sklearn-color-text);\n",
       "}\n",
       "\n",
       "#sk-container-id-1 pre {\n",
       "  padding: 0;\n",
       "}\n",
       "\n",
       "#sk-container-id-1 input.sk-hidden--visually {\n",
       "  border: 0;\n",
       "  clip: rect(1px 1px 1px 1px);\n",
       "  clip: rect(1px, 1px, 1px, 1px);\n",
       "  height: 1px;\n",
       "  margin: -1px;\n",
       "  overflow: hidden;\n",
       "  padding: 0;\n",
       "  position: absolute;\n",
       "  width: 1px;\n",
       "}\n",
       "\n",
       "#sk-container-id-1 div.sk-dashed-wrapped {\n",
       "  border: 1px dashed var(--sklearn-color-line);\n",
       "  margin: 0 0.4em 0.5em 0.4em;\n",
       "  box-sizing: border-box;\n",
       "  padding-bottom: 0.4em;\n",
       "  background-color: var(--sklearn-color-background);\n",
       "}\n",
       "\n",
       "#sk-container-id-1 div.sk-container {\n",
       "  /* jupyter's `normalize.less` sets `[hidden] { display: none; }`\n",
       "     but bootstrap.min.css set `[hidden] { display: none !important; }`\n",
       "     so we also need the `!important` here to be able to override the\n",
       "     default hidden behavior on the sphinx rendered scikit-learn.org.\n",
       "     See: https://github.com/scikit-learn/scikit-learn/issues/21755 */\n",
       "  display: inline-block !important;\n",
       "  position: relative;\n",
       "}\n",
       "\n",
       "#sk-container-id-1 div.sk-text-repr-fallback {\n",
       "  display: none;\n",
       "}\n",
       "\n",
       "div.sk-parallel-item,\n",
       "div.sk-serial,\n",
       "div.sk-item {\n",
       "  /* draw centered vertical line to link estimators */\n",
       "  background-image: linear-gradient(var(--sklearn-color-text-on-default-background), var(--sklearn-color-text-on-default-background));\n",
       "  background-size: 2px 100%;\n",
       "  background-repeat: no-repeat;\n",
       "  background-position: center center;\n",
       "}\n",
       "\n",
       "/* Parallel-specific style estimator block */\n",
       "\n",
       "#sk-container-id-1 div.sk-parallel-item::after {\n",
       "  content: \"\";\n",
       "  width: 100%;\n",
       "  border-bottom: 2px solid var(--sklearn-color-text-on-default-background);\n",
       "  flex-grow: 1;\n",
       "}\n",
       "\n",
       "#sk-container-id-1 div.sk-parallel {\n",
       "  display: flex;\n",
       "  align-items: stretch;\n",
       "  justify-content: center;\n",
       "  background-color: var(--sklearn-color-background);\n",
       "  position: relative;\n",
       "}\n",
       "\n",
       "#sk-container-id-1 div.sk-parallel-item {\n",
       "  display: flex;\n",
       "  flex-direction: column;\n",
       "}\n",
       "\n",
       "#sk-container-id-1 div.sk-parallel-item:first-child::after {\n",
       "  align-self: flex-end;\n",
       "  width: 50%;\n",
       "}\n",
       "\n",
       "#sk-container-id-1 div.sk-parallel-item:last-child::after {\n",
       "  align-self: flex-start;\n",
       "  width: 50%;\n",
       "}\n",
       "\n",
       "#sk-container-id-1 div.sk-parallel-item:only-child::after {\n",
       "  width: 0;\n",
       "}\n",
       "\n",
       "/* Serial-specific style estimator block */\n",
       "\n",
       "#sk-container-id-1 div.sk-serial {\n",
       "  display: flex;\n",
       "  flex-direction: column;\n",
       "  align-items: center;\n",
       "  background-color: var(--sklearn-color-background);\n",
       "  padding-right: 1em;\n",
       "  padding-left: 1em;\n",
       "}\n",
       "\n",
       "\n",
       "/* Toggleable style: style used for estimator/Pipeline/ColumnTransformer box that is\n",
       "clickable and can be expanded/collapsed.\n",
       "- Pipeline and ColumnTransformer use this feature and define the default style\n",
       "- Estimators will overwrite some part of the style using the `sk-estimator` class\n",
       "*/\n",
       "\n",
       "/* Pipeline and ColumnTransformer style (default) */\n",
       "\n",
       "#sk-container-id-1 div.sk-toggleable {\n",
       "  /* Default theme specific background. It is overwritten whether we have a\n",
       "  specific estimator or a Pipeline/ColumnTransformer */\n",
       "  background-color: var(--sklearn-color-background);\n",
       "}\n",
       "\n",
       "/* Toggleable label */\n",
       "#sk-container-id-1 label.sk-toggleable__label {\n",
       "  cursor: pointer;\n",
       "  display: block;\n",
       "  width: 100%;\n",
       "  margin-bottom: 0;\n",
       "  padding: 0.5em;\n",
       "  box-sizing: border-box;\n",
       "  text-align: center;\n",
       "}\n",
       "\n",
       "#sk-container-id-1 label.sk-toggleable__label-arrow:before {\n",
       "  /* Arrow on the left of the label */\n",
       "  content: \"▸\";\n",
       "  float: left;\n",
       "  margin-right: 0.25em;\n",
       "  color: var(--sklearn-color-icon);\n",
       "}\n",
       "\n",
       "#sk-container-id-1 label.sk-toggleable__label-arrow:hover:before {\n",
       "  color: var(--sklearn-color-text);\n",
       "}\n",
       "\n",
       "/* Toggleable content - dropdown */\n",
       "\n",
       "#sk-container-id-1 div.sk-toggleable__content {\n",
       "  max-height: 0;\n",
       "  max-width: 0;\n",
       "  overflow: hidden;\n",
       "  text-align: left;\n",
       "  /* unfitted */\n",
       "  background-color: var(--sklearn-color-unfitted-level-0);\n",
       "}\n",
       "\n",
       "#sk-container-id-1 div.sk-toggleable__content.fitted {\n",
       "  /* fitted */\n",
       "  background-color: var(--sklearn-color-fitted-level-0);\n",
       "}\n",
       "\n",
       "#sk-container-id-1 div.sk-toggleable__content pre {\n",
       "  margin: 0.2em;\n",
       "  border-radius: 0.25em;\n",
       "  color: var(--sklearn-color-text);\n",
       "  /* unfitted */\n",
       "  background-color: var(--sklearn-color-unfitted-level-0);\n",
       "}\n",
       "\n",
       "#sk-container-id-1 div.sk-toggleable__content.fitted pre {\n",
       "  /* unfitted */\n",
       "  background-color: var(--sklearn-color-fitted-level-0);\n",
       "}\n",
       "\n",
       "#sk-container-id-1 input.sk-toggleable__control:checked~div.sk-toggleable__content {\n",
       "  /* Expand drop-down */\n",
       "  max-height: 200px;\n",
       "  max-width: 100%;\n",
       "  overflow: auto;\n",
       "}\n",
       "\n",
       "#sk-container-id-1 input.sk-toggleable__control:checked~label.sk-toggleable__label-arrow:before {\n",
       "  content: \"▾\";\n",
       "}\n",
       "\n",
       "/* Pipeline/ColumnTransformer-specific style */\n",
       "\n",
       "#sk-container-id-1 div.sk-label input.sk-toggleable__control:checked~label.sk-toggleable__label {\n",
       "  color: var(--sklearn-color-text);\n",
       "  background-color: var(--sklearn-color-unfitted-level-2);\n",
       "}\n",
       "\n",
       "#sk-container-id-1 div.sk-label.fitted input.sk-toggleable__control:checked~label.sk-toggleable__label {\n",
       "  background-color: var(--sklearn-color-fitted-level-2);\n",
       "}\n",
       "\n",
       "/* Estimator-specific style */\n",
       "\n",
       "/* Colorize estimator box */\n",
       "#sk-container-id-1 div.sk-estimator input.sk-toggleable__control:checked~label.sk-toggleable__label {\n",
       "  /* unfitted */\n",
       "  background-color: var(--sklearn-color-unfitted-level-2);\n",
       "}\n",
       "\n",
       "#sk-container-id-1 div.sk-estimator.fitted input.sk-toggleable__control:checked~label.sk-toggleable__label {\n",
       "  /* fitted */\n",
       "  background-color: var(--sklearn-color-fitted-level-2);\n",
       "}\n",
       "\n",
       "#sk-container-id-1 div.sk-label label.sk-toggleable__label,\n",
       "#sk-container-id-1 div.sk-label label {\n",
       "  /* The background is the default theme color */\n",
       "  color: var(--sklearn-color-text-on-default-background);\n",
       "}\n",
       "\n",
       "/* On hover, darken the color of the background */\n",
       "#sk-container-id-1 div.sk-label:hover label.sk-toggleable__label {\n",
       "  color: var(--sklearn-color-text);\n",
       "  background-color: var(--sklearn-color-unfitted-level-2);\n",
       "}\n",
       "\n",
       "/* Label box, darken color on hover, fitted */\n",
       "#sk-container-id-1 div.sk-label.fitted:hover label.sk-toggleable__label.fitted {\n",
       "  color: var(--sklearn-color-text);\n",
       "  background-color: var(--sklearn-color-fitted-level-2);\n",
       "}\n",
       "\n",
       "/* Estimator label */\n",
       "\n",
       "#sk-container-id-1 div.sk-label label {\n",
       "  font-family: monospace;\n",
       "  font-weight: bold;\n",
       "  display: inline-block;\n",
       "  line-height: 1.2em;\n",
       "}\n",
       "\n",
       "#sk-container-id-1 div.sk-label-container {\n",
       "  text-align: center;\n",
       "}\n",
       "\n",
       "/* Estimator-specific */\n",
       "#sk-container-id-1 div.sk-estimator {\n",
       "  font-family: monospace;\n",
       "  border: 1px dotted var(--sklearn-color-border-box);\n",
       "  border-radius: 0.25em;\n",
       "  box-sizing: border-box;\n",
       "  margin-bottom: 0.5em;\n",
       "  /* unfitted */\n",
       "  background-color: var(--sklearn-color-unfitted-level-0);\n",
       "}\n",
       "\n",
       "#sk-container-id-1 div.sk-estimator.fitted {\n",
       "  /* fitted */\n",
       "  background-color: var(--sklearn-color-fitted-level-0);\n",
       "}\n",
       "\n",
       "/* on hover */\n",
       "#sk-container-id-1 div.sk-estimator:hover {\n",
       "  /* unfitted */\n",
       "  background-color: var(--sklearn-color-unfitted-level-2);\n",
       "}\n",
       "\n",
       "#sk-container-id-1 div.sk-estimator.fitted:hover {\n",
       "  /* fitted */\n",
       "  background-color: var(--sklearn-color-fitted-level-2);\n",
       "}\n",
       "\n",
       "/* Specification for estimator info (e.g. \"i\" and \"?\") */\n",
       "\n",
       "/* Common style for \"i\" and \"?\" */\n",
       "\n",
       ".sk-estimator-doc-link,\n",
       "a:link.sk-estimator-doc-link,\n",
       "a:visited.sk-estimator-doc-link {\n",
       "  float: right;\n",
       "  font-size: smaller;\n",
       "  line-height: 1em;\n",
       "  font-family: monospace;\n",
       "  background-color: var(--sklearn-color-background);\n",
       "  border-radius: 1em;\n",
       "  height: 1em;\n",
       "  width: 1em;\n",
       "  text-decoration: none !important;\n",
       "  margin-left: 1ex;\n",
       "  /* unfitted */\n",
       "  border: var(--sklearn-color-unfitted-level-1) 1pt solid;\n",
       "  color: var(--sklearn-color-unfitted-level-1);\n",
       "}\n",
       "\n",
       ".sk-estimator-doc-link.fitted,\n",
       "a:link.sk-estimator-doc-link.fitted,\n",
       "a:visited.sk-estimator-doc-link.fitted {\n",
       "  /* fitted */\n",
       "  border: var(--sklearn-color-fitted-level-1) 1pt solid;\n",
       "  color: var(--sklearn-color-fitted-level-1);\n",
       "}\n",
       "\n",
       "/* On hover */\n",
       "div.sk-estimator:hover .sk-estimator-doc-link:hover,\n",
       ".sk-estimator-doc-link:hover,\n",
       "div.sk-label-container:hover .sk-estimator-doc-link:hover,\n",
       ".sk-estimator-doc-link:hover {\n",
       "  /* unfitted */\n",
       "  background-color: var(--sklearn-color-unfitted-level-3);\n",
       "  color: var(--sklearn-color-background);\n",
       "  text-decoration: none;\n",
       "}\n",
       "\n",
       "div.sk-estimator.fitted:hover .sk-estimator-doc-link.fitted:hover,\n",
       ".sk-estimator-doc-link.fitted:hover,\n",
       "div.sk-label-container:hover .sk-estimator-doc-link.fitted:hover,\n",
       ".sk-estimator-doc-link.fitted:hover {\n",
       "  /* fitted */\n",
       "  background-color: var(--sklearn-color-fitted-level-3);\n",
       "  color: var(--sklearn-color-background);\n",
       "  text-decoration: none;\n",
       "}\n",
       "\n",
       "/* Span, style for the box shown on hovering the info icon */\n",
       ".sk-estimator-doc-link span {\n",
       "  display: none;\n",
       "  z-index: 9999;\n",
       "  position: relative;\n",
       "  font-weight: normal;\n",
       "  right: .2ex;\n",
       "  padding: .5ex;\n",
       "  margin: .5ex;\n",
       "  width: min-content;\n",
       "  min-width: 20ex;\n",
       "  max-width: 50ex;\n",
       "  color: var(--sklearn-color-text);\n",
       "  box-shadow: 2pt 2pt 4pt #999;\n",
       "  /* unfitted */\n",
       "  background: var(--sklearn-color-unfitted-level-0);\n",
       "  border: .5pt solid var(--sklearn-color-unfitted-level-3);\n",
       "}\n",
       "\n",
       ".sk-estimator-doc-link.fitted span {\n",
       "  /* fitted */\n",
       "  background: var(--sklearn-color-fitted-level-0);\n",
       "  border: var(--sklearn-color-fitted-level-3);\n",
       "}\n",
       "\n",
       ".sk-estimator-doc-link:hover span {\n",
       "  display: block;\n",
       "}\n",
       "\n",
       "/* \"?\"-specific style due to the `<a>` HTML tag */\n",
       "\n",
       "#sk-container-id-1 a.estimator_doc_link {\n",
       "  float: right;\n",
       "  font-size: 1rem;\n",
       "  line-height: 1em;\n",
       "  font-family: monospace;\n",
       "  background-color: var(--sklearn-color-background);\n",
       "  border-radius: 1rem;\n",
       "  height: 1rem;\n",
       "  width: 1rem;\n",
       "  text-decoration: none;\n",
       "  /* unfitted */\n",
       "  color: var(--sklearn-color-unfitted-level-1);\n",
       "  border: var(--sklearn-color-unfitted-level-1) 1pt solid;\n",
       "}\n",
       "\n",
       "#sk-container-id-1 a.estimator_doc_link.fitted {\n",
       "  /* fitted */\n",
       "  border: var(--sklearn-color-fitted-level-1) 1pt solid;\n",
       "  color: var(--sklearn-color-fitted-level-1);\n",
       "}\n",
       "\n",
       "/* On hover */\n",
       "#sk-container-id-1 a.estimator_doc_link:hover {\n",
       "  /* unfitted */\n",
       "  background-color: var(--sklearn-color-unfitted-level-3);\n",
       "  color: var(--sklearn-color-background);\n",
       "  text-decoration: none;\n",
       "}\n",
       "\n",
       "#sk-container-id-1 a.estimator_doc_link.fitted:hover {\n",
       "  /* fitted */\n",
       "  background-color: var(--sklearn-color-fitted-level-3);\n",
       "}\n",
       "</style><div id=\"sk-container-id-1\" class=\"sk-top-container\"><div class=\"sk-text-repr-fallback\"><pre>LinearRegression()</pre><b>In a Jupyter environment, please rerun this cell to show the HTML representation or trust the notebook. <br />On GitHub, the HTML representation is unable to render, please try loading this page with nbviewer.org.</b></div><div class=\"sk-container\" hidden><div class=\"sk-item\"><div class=\"sk-estimator fitted sk-toggleable\"><input class=\"sk-toggleable__control sk-hidden--visually\" id=\"sk-estimator-id-1\" type=\"checkbox\" checked><label for=\"sk-estimator-id-1\" class=\"sk-toggleable__label fitted sk-toggleable__label-arrow fitted\">&nbsp;&nbsp;LinearRegression<a class=\"sk-estimator-doc-link fitted\" rel=\"noreferrer\" target=\"_blank\" href=\"https://scikit-learn.org/1.4/modules/generated/sklearn.linear_model.LinearRegression.html\">?<span>Documentation for LinearRegression</span></a><span class=\"sk-estimator-doc-link fitted\">i<span>Fitted</span></span></label><div class=\"sk-toggleable__content fitted\"><pre>LinearRegression()</pre></div> </div></div></div></div>"
      ],
      "text/plain": [
       "LinearRegression()"
      ]
     },
     "execution_count": 60,
     "metadata": {},
     "output_type": "execute_result"
    }
   ],
   "source": [
    "model.fit(X_train,y_train)"
   ]
  },
  {
   "cell_type": "code",
   "execution_count": 61,
   "id": "8481885e-0338-4c84-80f6-c0a925d233af",
   "metadata": {},
   "outputs": [],
   "source": [
    "y_pred=model.predict(X_test)"
   ]
  },
  {
   "cell_type": "code",
   "execution_count": 62,
   "id": "89bf0384-6de3-401f-98d1-b145a5873895",
   "metadata": {},
   "outputs": [
    {
     "data": {
      "text/plain": [
       "array([ 47383.27907138,  39284.63159005, 101050.28004823,  67278.75078112,\n",
       "        69165.38470954,  35719.96257006,  54270.93414647,  58739.7525807 ,\n",
       "        33617.72883891,  33230.66444472,  66627.96436885,  53785.46779413,\n",
       "        31538.7921998 ,  40308.76161734,  39058.91138231,  30658.43173871,\n",
       "        22499.9909771 ,  42023.00491355,  40095.40404685,  56943.54427877,\n",
       "        30981.59854996,  52174.49771425,  55172.77854074,  35994.69371414,\n",
       "        53458.40893256,  34307.18496599,  50579.27828833,  81922.02091622,\n",
       "        61077.87842508,  26365.26095488,  33439.61835436,  47528.38100017,\n",
       "        53840.53138613,  41089.12971495,  73165.44882635,  87197.35266186,\n",
       "        47411.44566596,  30558.88888915,  36701.53901852,  30590.26133016,\n",
       "        47566.56920163,  42093.17142412,  47267.53112841,  50683.07223238,\n",
       "        62512.121246  ,  31299.20336074,  68689.28858679,  43854.48992748,\n",
       "        30174.05158312,  54934.13154767,  51097.19901654,  71508.47142942,\n",
       "        49490.89791199,  52299.36263134,  23563.5846034 ,  40796.2492715 ,\n",
       "        49611.64525823,  40541.37685349, 105445.78288159,  57582.24818873,\n",
       "        52204.53901808,  33278.36811945,  41885.49643521,  47174.51583591,\n",
       "        27180.57495642,  39681.10967833,  30144.59508233,  26344.80709007,\n",
       "        57278.9057014 ,  67736.77507411,  67678.77210808,  66207.9309819 ,\n",
       "        47171.56532063,  53398.83166858,  99910.98041963,  42055.99565   ,\n",
       "        36917.816218  ,  54759.88925563,  40179.31457637,  74772.34335846,\n",
       "        49506.56468774,  40856.52843962,  57389.06144822,  40250.18840563,\n",
       "       199467.0137185 ,  43503.81242879,  38418.17525113,  30338.46780109,\n",
       "       117168.43426498,  52164.04251926, 112852.05795718,  67383.67429084,\n",
       "        43605.60024895,  69217.94566367,  81745.37481159,  60330.99941794,\n",
       "        42323.41712927, 138728.47206807,  49596.53294789,  46742.75974941,\n",
       "        46343.67569319,  68862.00358153,  47669.20433756,  53080.86011463,\n",
       "        99699.75981953,  32077.1140799 ,  32925.31590721,  54804.5395379 ,\n",
       "        41897.71656782,  40317.97011723,  71842.91602922,  35960.53243993,\n",
       "        43934.36631964,  69142.09082005,  35534.41411252,  51083.01735398,\n",
       "        33303.44977133,  39210.25114958,  57515.97291412,  69420.26608387,\n",
       "        53549.80263418,  53066.410562  ,  44338.01293411,  33422.07925993,\n",
       "        42012.01356149,  41277.56948604,  34214.86117168,  68594.22350261,\n",
       "        53160.02013167,  91400.20310411,  39024.44863895,  44213.85717882,\n",
       "        34661.87147448,  51907.89761377,  44073.56288371,  63301.60255909,\n",
       "        28870.59862735,  41880.27216039,  42717.86557324,  28650.51032859,\n",
       "        26210.79056735,  52213.51572351,  52834.63591433,  44322.96308423,\n",
       "        34442.91613269,  68990.23365532,  32597.74090445,  32826.72822578,\n",
       "        29473.11350342,  47129.99623108,  30723.37379612, 115702.95808833,\n",
       "        33147.51156242,  44952.38540265,  63767.72166606,  98265.08579995,\n",
       "        44553.78284038,  47633.25498681,  34051.36957835,  49518.57428638,\n",
       "        46818.05849082,  45313.74973025,  44152.99466671,  44527.09700522,\n",
       "        42343.85807549,  48643.16198824,  31934.06672266,  36360.35772762,\n",
       "        58832.86484641,  32999.72890897,  41981.26370037,  42279.49286344,\n",
       "        27919.03233391,  33201.0086635 ,  51243.49588917,  32960.08880447,\n",
       "        53804.87857296,  40423.95124368,  67400.95737256, 124534.79206472,\n",
       "        41027.45651161,  45130.25772627,  33886.7415293 ,  31540.25343574,\n",
       "        67236.83890016, 122943.45029874,  57221.77313048,  30246.81448781,\n",
       "        48420.87776035,  49105.72456798,  81501.34888315,  41567.16068693,\n",
       "       208045.33042198,  44495.63396087,  47126.23157977,  19740.2333922 ,\n",
       "        44142.76415494,  46473.6996579 ,  31711.22207402,  91990.83575714,\n",
       "        44506.15096051,  53077.00550343,   1049.37314212,  68189.69906966,\n",
       "        41598.21846784, 139021.75804549,  88827.79753597,  29957.26475907,\n",
       "        31305.63983849, 115925.50691435,  57560.8393194 ,  48427.09330449,\n",
       "        49637.61561288,  53612.49385348,  39970.45341471,  66685.17109832,\n",
       "        44911.26266946,  28077.59202869,  44249.44487256,  30905.05668333,\n",
       "        32686.99262838,  27208.01034324,  26775.50275826,  47412.32422984,\n",
       "        39585.27491652,  30898.89163968,  45721.08892807,  58308.28020862,\n",
       "        51241.23895664,  67903.3890794 ,  67510.9882665 ,  92618.546727  ,\n",
       "        30847.82513285,  29756.51539221,  47372.76266529,  74437.13213203,\n",
       "        35329.63733623,  89237.84667999,  41819.22986568,  48692.66758783,\n",
       "        67138.86051798,  45330.87063704,  80849.76916177,  35744.58596021,\n",
       "        53907.27345239,  45282.26215508, 115235.27077995,  26206.3244396 ,\n",
       "        59344.44273301,  31074.78638814,  35609.96087953,  38266.74142429,\n",
       "        52598.23630717,  69039.25376405,  55220.04400613,  30580.318972  ,\n",
       "        67238.52707916,  45673.13008702,  48803.98460197,  40092.81396672,\n",
       "        44381.52081131,  46554.25673201,  45880.11477555,  49950.04125703,\n",
       "        30679.90203726,  47535.14718895, 111743.95442716,  47618.51468714,\n",
       "        52151.64224748,  40170.1736996 ,  32936.54219508,  46160.28199386,\n",
       "        40335.51104891,  49110.47374908,  40004.7048695 ,  47537.03034291,\n",
       "        41671.98863843,  44141.80980422,  48977.50868361,  98485.2843847 ,\n",
       "        46944.41156818,  30822.82630512,  41894.47771125,  41554.16185289,\n",
       "        67380.51642635,  41462.19147443,  45600.8299492 ,  64827.35111429,\n",
       "        44827.43694751,  47177.86146363,  34369.54092711,  29950.13351636,\n",
       "        40726.98477699,  58021.36265771,  49889.06538882,  53508.69821911,\n",
       "        44346.61574582,  51331.14676176,  58046.7557579 ,  33442.87590688,\n",
       "        89232.99707209,  39917.22672006,  66358.87271777,  33847.94623433,\n",
       "        38404.42487244,  33552.37717907,  75932.29566181,  69981.95735802,\n",
       "        87460.02803795,  62425.21906963,  50057.68729593,  59003.5775313 ,\n",
       "        57687.80763934,  57363.64294727,  33373.70672252,  58108.20773602,\n",
       "        39882.30814714,  88179.94167959,  27743.32501379,  49836.49306964,\n",
       "        53194.62490814,  29868.31486422,  48050.71372981,  34605.95265426,\n",
       "       159989.15501251,  64852.69394412,  58623.90451651,  50003.1855366 ,\n",
       "        33397.62673461,  40836.22795933,  55431.16552171,  47606.06937143,\n",
       "        99719.19913929,  57991.87072246,  30337.50256758,  30418.64073901,\n",
       "        26609.13425156, 140493.96920579,  80086.34234746,  39975.84828002,\n",
       "        79983.40697136,  52128.66202817,  40705.93599545,  47511.02492883,\n",
       "        45237.79716851,  41289.12496205,  30531.58747414,  67448.97263838,\n",
       "        30172.74969068,  30219.2249951 ,  29765.94239562,  92696.91551325,\n",
       "        57372.55843131,  40160.27939728,  41870.8172833 ,  41620.92231635,\n",
       "        30739.12527394, 217333.93008815,  52016.29440866,  53274.85846919,\n",
       "        67378.32972047, 157939.48802695,  31438.04785318,  30666.2948403 ,\n",
       "        70475.6891006 ,  32922.61895671,  88964.24277318, 217134.20326763,\n",
       "        48629.70859915,  41858.22453458,  47469.14268794,  47749.02239311,\n",
       "        49693.20311085,  44060.98296873,  45743.43712597,  43980.23486396,\n",
       "        29979.19744799, 106696.2176967 ,  52716.50857273,  49984.33893512,\n",
       "        48187.23073557,  26044.17613692,  41823.19659214,  53809.48967013,\n",
       "        53291.78237448,  52231.16168621,  66192.97308216,  68816.39777329,\n",
       "        41920.02846316,  39726.67171597,  78333.36887225,  45186.19085848,\n",
       "        57320.92848386,  67394.76766727,  41458.05330382,  68530.05304488,\n",
       "        35051.30873972,  40769.22451101,  23668.92521853,  80480.57921875,\n",
       "        30013.76816128,  35240.0321719 ,  44141.4249634 , 165213.44985807,\n",
       "       120663.35866717,  32718.97885703,  46049.0396698 ,  54618.99523758,\n",
       "        49236.25970349,  65587.76382621,  47246.41685952,  36689.28290711,\n",
       "        47218.79089315,  17878.00026654,  52169.78160602, 138524.72812506,\n",
       "        98675.80854522,  43873.04348099,  34646.52433352,  52308.76929114,\n",
       "        67412.36214099,  67400.04419396,  52020.32813761, 167996.18959859,\n",
       "        30549.29584308,  52228.12608708,  67822.47671371,  26634.35361626,\n",
       "        56586.39695079,  54810.33906217,  81212.23253248,  41971.98304525,\n",
       "        28822.78614248,  40000.72440971,  33579.25828536,  48107.0119691 ,\n",
       "        30798.80268598,  40997.04808932,  32670.23733251, 113514.54805154,\n",
       "        60878.03814629,  49145.53544468,  44758.40523755,  44704.85026396,\n",
       "       177213.16592042,  67443.74750818, 129143.87746311,  30522.25038092,\n",
       "        50434.34861334,  36636.36865315, 178522.54059732,  40346.4745176 ,\n",
       "        29953.0937165 ,  41939.12807334,  41826.50580224,  52140.24364053,\n",
       "        45092.17184146,  75213.5303685 ,  31004.54318652,  31892.2746042 ,\n",
       "        37824.83332744,  58306.20240821,  46649.65361557,  30141.96936263,\n",
       "        45776.42209411,  80122.316629  ,  41593.22193019,  23033.62046862,\n",
       "       208286.01545411,  24059.42522271,  45093.83563941,  29192.81654786,\n",
       "        39546.11157917,  81837.35266701,  67354.02599874,  30862.30417973,\n",
       "        46792.40275901,  41640.90750995,  76172.27199547,  49271.42077509])"
      ]
     },
     "execution_count": 62,
     "metadata": {},
     "output_type": "execute_result"
    }
   ],
   "source": [
    "y_pred"
   ]
  },
  {
   "cell_type": "code",
   "execution_count": 63,
   "id": "f947e58e-aea8-4fa3-b7fe-e2cc51d2b9e0",
   "metadata": {},
   "outputs": [],
   "source": [
    "from sklearn.metrics import mean_absolute_error,mean_squared_error,r2_score"
   ]
  },
  {
   "cell_type": "code",
   "execution_count": 64,
   "id": "ed8b2711-843c-43a9-af1d-22125c4585d2",
   "metadata": {},
   "outputs": [
    {
     "data": {
      "text/plain": [
       "2686.7238254292974"
      ]
     },
     "execution_count": 64,
     "metadata": {},
     "output_type": "execute_result"
    }
   ],
   "source": [
    "mean_absolute_error(y_test,y_pred)"
   ]
  },
  {
   "cell_type": "code",
   "execution_count": 67,
   "id": "2eb83098-92df-4189-98d4-393dced244ff",
   "metadata": {},
   "outputs": [
    {
     "data": {
      "text/plain": [
       "16253958.677945685"
      ]
     },
     "execution_count": 67,
     "metadata": {},
     "output_type": "execute_result"
    }
   ],
   "source": [
    "mse=mean_squared_error(y_test,y_pred)\n",
    "mse"
   ]
  },
  {
   "cell_type": "code",
   "execution_count": 68,
   "id": "4c4e8cae-f9ad-4f13-9b92-740d992ff3f6",
   "metadata": {},
   "outputs": [
    {
     "data": {
      "text/plain": [
       "4031.6198578171634"
      ]
     },
     "execution_count": 68,
     "metadata": {},
     "output_type": "execute_result"
    }
   ],
   "source": [
    "np.sqrt(mse)"
   ]
  },
  {
   "cell_type": "code",
   "execution_count": 71,
   "id": "f31a2c94-4d59-48ed-9abd-1ea597c5494d",
   "metadata": {},
   "outputs": [
    {
     "data": {
      "text/plain": [
       "0.9805915440730748"
      ]
     },
     "execution_count": 71,
     "metadata": {},
     "output_type": "execute_result"
    }
   ],
   "source": [
    "score=r2_score(y_test,y_pred)\n",
    "score"
   ]
  },
  {
   "cell_type": "code",
   "execution_count": 72,
   "id": "f2c56988-44b8-487f-9b3a-3baa68ca9d0a",
   "metadata": {},
   "outputs": [
    {
     "data": {
      "text/plain": [
       "0.9804281044442165"
      ]
     },
     "execution_count": 72,
     "metadata": {},
     "output_type": "execute_result"
    }
   ],
   "source": [
    "1- (1-score)*(len(y_test)-1) / (len(y_test) - X_test.shape[1] - 1)"
   ]
  },
  {
   "cell_type": "code",
   "execution_count": null,
   "id": "34ff25f9-9ee8-417b-9b19-c747cda31561",
   "metadata": {},
   "outputs": [],
   "source": []
  }
 ],
 "metadata": {
  "kernelspec": {
   "display_name": "Python 3 (ipykernel)",
   "language": "python",
   "name": "python3"
  },
  "language_info": {
   "codemirror_mode": {
    "name": "ipython",
    "version": 3
   },
   "file_extension": ".py",
   "mimetype": "text/x-python",
   "name": "python",
   "nbconvert_exporter": "python",
   "pygments_lexer": "ipython3",
   "version": "3.11.6"
  }
 },
 "nbformat": 4,
 "nbformat_minor": 5
}
